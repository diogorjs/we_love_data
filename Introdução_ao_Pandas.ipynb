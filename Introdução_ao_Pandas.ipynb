{
  "nbformat": 4,
  "nbformat_minor": 0,
  "metadata": {
    "colab": {
      "name": "Introdução ao Pandas.ipynb",
      "provenance": [],
      "collapsed_sections": [],
      "toc_visible": true,
      "authorship_tag": "ABX9TyNnjd8XjL/V3/nMtrPPjVAX",
      "include_colab_link": true
    },
    "kernelspec": {
      "name": "python3",
      "display_name": "Python 3"
    }
  },
  "cells": [
    {
      "cell_type": "markdown",
      "metadata": {
        "id": "view-in-github",
        "colab_type": "text"
      },
      "source": [
        "<a href=\"https://colab.research.google.com/github/diogorjs/we_love_data/blob/master/Introdu%C3%A7%C3%A3o_ao_Pandas.ipynb\" target=\"_parent\"><img src=\"https://colab.research.google.com/assets/colab-badge.svg\" alt=\"Open In Colab\"/></a>"
      ]
    },
    {
      "cell_type": "markdown",
      "metadata": {
        "id": "jm6ZMCDy__fg",
        "colab_type": "text"
      },
      "source": [
        "## **Introdução ao Pandas**\n",
        "\n",
        "Pandas é uma biblioteca Python, open source, que provê uma forma simples de se manipular e analisar um conjuntos de dados.\n",
        "\n",
        "Para maiores detalhes consultar a página [Pandas](https://pandas.pydata.org/pandas-docs/stable/index.html)"
      ]
    },
    {
      "cell_type": "code",
      "metadata": {
        "id": "4GBbBLPy0RuE",
        "colab_type": "code",
        "colab": {}
      },
      "source": [
        "# Importando a biblioteca do pandas\n",
        "import pandas as pd"
      ],
      "execution_count": 0,
      "outputs": []
    },
    {
      "cell_type": "markdown",
      "metadata": {
        "id": "bIgm340EzWvY",
        "colab_type": "text"
      },
      "source": [
        "## **Criando Dataframes a partir de dicionários**\n",
        "\n",
        "Um dataframe é uma estrutura de dados, bi-dimensional, que pode conter um conjunto heterogênio de dados.\n",
        "\n",
        "Para facilitar, um dataframe é como se fosse uma tabela, contendo linhas e colunas.\n",
        "\n",
        "Abaixo veremos as diversas formas se se criar e trabalhar com Dataframes;"
      ]
    },
    {
      "cell_type": "code",
      "metadata": {
        "id": "3E8lhAh1uAo7",
        "colab_type": "code",
        "outputId": "15f9353c-42f3-47e3-e66d-c98532992c1d",
        "colab": {
          "base_uri": "https://localhost:8080/",
          "height": 173
        }
      },
      "source": [
        "# Criando dicionário\n",
        "dados = {\n",
        "    'nome' : ['Diogo', 'Daiane', 'Isabela', 'Gabriela'],\n",
        "    'idade' : [35,32,15,49],\n",
        "    'cidade' : ['Brasilia', 'Foz do Iguaçu', 'Curitiba', 'Curitiba'],\n",
        "    'comprou': [True, False, False, True]\n",
        "}\n",
        "\n",
        "# Criando Dataframe\n",
        "df = pd.DataFrame(dados)\n",
        "\n",
        "# Visualizando o Dataframe\n",
        "df"
      ],
      "execution_count": 0,
      "outputs": [
        {
          "output_type": "execute_result",
          "data": {
            "text/html": [
              "<div>\n",
              "<style scoped>\n",
              "    .dataframe tbody tr th:only-of-type {\n",
              "        vertical-align: middle;\n",
              "    }\n",
              "\n",
              "    .dataframe tbody tr th {\n",
              "        vertical-align: top;\n",
              "    }\n",
              "\n",
              "    .dataframe thead th {\n",
              "        text-align: right;\n",
              "    }\n",
              "</style>\n",
              "<table border=\"1\" class=\"dataframe\">\n",
              "  <thead>\n",
              "    <tr style=\"text-align: right;\">\n",
              "      <th></th>\n",
              "      <th>nome</th>\n",
              "      <th>idade</th>\n",
              "      <th>cidade</th>\n",
              "      <th>comprou</th>\n",
              "    </tr>\n",
              "  </thead>\n",
              "  <tbody>\n",
              "    <tr>\n",
              "      <th>0</th>\n",
              "      <td>Diogo</td>\n",
              "      <td>35</td>\n",
              "      <td>Brasilia</td>\n",
              "      <td>True</td>\n",
              "    </tr>\n",
              "    <tr>\n",
              "      <th>1</th>\n",
              "      <td>Daiane</td>\n",
              "      <td>32</td>\n",
              "      <td>Foz do Iguaçu</td>\n",
              "      <td>False</td>\n",
              "    </tr>\n",
              "    <tr>\n",
              "      <th>2</th>\n",
              "      <td>Isabela</td>\n",
              "      <td>15</td>\n",
              "      <td>Curitiba</td>\n",
              "      <td>False</td>\n",
              "    </tr>\n",
              "    <tr>\n",
              "      <th>3</th>\n",
              "      <td>Gabriela</td>\n",
              "      <td>49</td>\n",
              "      <td>Curitiba</td>\n",
              "      <td>True</td>\n",
              "    </tr>\n",
              "  </tbody>\n",
              "</table>\n",
              "</div>"
            ],
            "text/plain": [
              "       nome  idade         cidade  comprou\n",
              "0     Diogo     35       Brasilia     True\n",
              "1    Daiane     32  Foz do Iguaçu    False\n",
              "2   Isabela     15       Curitiba    False\n",
              "3  Gabriela     49       Curitiba     True"
            ]
          },
          "metadata": {
            "tags": []
          },
          "execution_count": 98
        }
      ]
    },
    {
      "cell_type": "markdown",
      "metadata": {
        "colab_type": "text",
        "id": "XnyatfVT0gys"
      },
      "source": [
        "## **Criando Dataframes a partir de listas**"
      ]
    },
    {
      "cell_type": "code",
      "metadata": {
        "id": "Lj1UYmBNuAry",
        "colab_type": "code",
        "outputId": "429d2706-0232-4d19-b673-7bee3b22a32e",
        "colab": {
          "base_uri": "https://localhost:8080/",
          "height": 173
        }
      },
      "source": [
        "# Criando as listas\n",
        "nomes = ['Carlos', 'Pedro', 'Daniela', 'Fernada']\n",
        "idades = [35,32,15,49]\n",
        "cidades = ['Araraquara', 'Belém', 'Natal', 'Curitiba']\n",
        "compras = [True, False, False, True]\n",
        "\n",
        "lables = ['nome', 'idade', 'cidade', 'comprou']\n",
        "list_cols = [nomes, idades, cidades, compras]\n",
        "\n",
        "# Criando os dados para o dataframe\n",
        "dados = dict(list(zip(lables, list_cols)))\n",
        "\n",
        "# Criando o dataframe\n",
        "df = pd.DataFrame(dados)\n",
        "\n",
        "df"
      ],
      "execution_count": 0,
      "outputs": [
        {
          "output_type": "execute_result",
          "data": {
            "text/html": [
              "<div>\n",
              "<style scoped>\n",
              "    .dataframe tbody tr th:only-of-type {\n",
              "        vertical-align: middle;\n",
              "    }\n",
              "\n",
              "    .dataframe tbody tr th {\n",
              "        vertical-align: top;\n",
              "    }\n",
              "\n",
              "    .dataframe thead th {\n",
              "        text-align: right;\n",
              "    }\n",
              "</style>\n",
              "<table border=\"1\" class=\"dataframe\">\n",
              "  <thead>\n",
              "    <tr style=\"text-align: right;\">\n",
              "      <th></th>\n",
              "      <th>nome</th>\n",
              "      <th>idade</th>\n",
              "      <th>cidade</th>\n",
              "      <th>comprou</th>\n",
              "    </tr>\n",
              "  </thead>\n",
              "  <tbody>\n",
              "    <tr>\n",
              "      <th>0</th>\n",
              "      <td>Carlos</td>\n",
              "      <td>35</td>\n",
              "      <td>Araraquara</td>\n",
              "      <td>True</td>\n",
              "    </tr>\n",
              "    <tr>\n",
              "      <th>1</th>\n",
              "      <td>Pedro</td>\n",
              "      <td>32</td>\n",
              "      <td>Belém</td>\n",
              "      <td>False</td>\n",
              "    </tr>\n",
              "    <tr>\n",
              "      <th>2</th>\n",
              "      <td>Daniela</td>\n",
              "      <td>15</td>\n",
              "      <td>Natal</td>\n",
              "      <td>False</td>\n",
              "    </tr>\n",
              "    <tr>\n",
              "      <th>3</th>\n",
              "      <td>Fernada</td>\n",
              "      <td>49</td>\n",
              "      <td>Curitiba</td>\n",
              "      <td>True</td>\n",
              "    </tr>\n",
              "  </tbody>\n",
              "</table>\n",
              "</div>"
            ],
            "text/plain": [
              "      nome  idade      cidade  comprou\n",
              "0   Carlos     35  Araraquara     True\n",
              "1    Pedro     32       Belém    False\n",
              "2  Daniela     15       Natal    False\n",
              "3  Fernada     49    Curitiba     True"
            ]
          },
          "metadata": {
            "tags": []
          },
          "execution_count": 65
        }
      ]
    },
    {
      "cell_type": "code",
      "metadata": {
        "id": "crvLQRb3uAvI",
        "colab_type": "code",
        "colab": {}
      },
      "source": [
        ""
      ],
      "execution_count": 0,
      "outputs": []
    },
    {
      "cell_type": "code",
      "metadata": {
        "id": "7iePvdaKuAx1",
        "colab_type": "code",
        "outputId": "a58fa562-d009-48cd-c358-e543405ce782",
        "colab": {
          "base_uri": "https://localhost:8080/",
          "height": 173
        }
      },
      "source": [
        "# Adicionando uma nova coluna ao dataframe\n",
        "df['saldo'] = 0.0\n",
        "\n",
        "df"
      ],
      "execution_count": 0,
      "outputs": [
        {
          "output_type": "execute_result",
          "data": {
            "text/html": [
              "<div>\n",
              "<style scoped>\n",
              "    .dataframe tbody tr th:only-of-type {\n",
              "        vertical-align: middle;\n",
              "    }\n",
              "\n",
              "    .dataframe tbody tr th {\n",
              "        vertical-align: top;\n",
              "    }\n",
              "\n",
              "    .dataframe thead th {\n",
              "        text-align: right;\n",
              "    }\n",
              "</style>\n",
              "<table border=\"1\" class=\"dataframe\">\n",
              "  <thead>\n",
              "    <tr style=\"text-align: right;\">\n",
              "      <th></th>\n",
              "      <th>nome</th>\n",
              "      <th>idade</th>\n",
              "      <th>cidade</th>\n",
              "      <th>comprou</th>\n",
              "      <th>saldo</th>\n",
              "    </tr>\n",
              "  </thead>\n",
              "  <tbody>\n",
              "    <tr>\n",
              "      <th>0</th>\n",
              "      <td>Carlos</td>\n",
              "      <td>35</td>\n",
              "      <td>Araraquara</td>\n",
              "      <td>True</td>\n",
              "      <td>0.0</td>\n",
              "    </tr>\n",
              "    <tr>\n",
              "      <th>1</th>\n",
              "      <td>Pedro</td>\n",
              "      <td>32</td>\n",
              "      <td>Belém</td>\n",
              "      <td>False</td>\n",
              "      <td>0.0</td>\n",
              "    </tr>\n",
              "    <tr>\n",
              "      <th>2</th>\n",
              "      <td>Daniela</td>\n",
              "      <td>15</td>\n",
              "      <td>Natal</td>\n",
              "      <td>False</td>\n",
              "      <td>0.0</td>\n",
              "    </tr>\n",
              "    <tr>\n",
              "      <th>3</th>\n",
              "      <td>Fernada</td>\n",
              "      <td>49</td>\n",
              "      <td>Curitiba</td>\n",
              "      <td>True</td>\n",
              "      <td>0.0</td>\n",
              "    </tr>\n",
              "  </tbody>\n",
              "</table>\n",
              "</div>"
            ],
            "text/plain": [
              "      nome  idade      cidade  comprou  saldo\n",
              "0   Carlos     35  Araraquara     True    0.0\n",
              "1    Pedro     32       Belém    False    0.0\n",
              "2  Daniela     15       Natal    False    0.0\n",
              "3  Fernada     49    Curitiba     True    0.0"
            ]
          },
          "metadata": {
            "tags": []
          },
          "execution_count": 66
        }
      ]
    },
    {
      "cell_type": "markdown",
      "metadata": {
        "id": "rzk5pTTd7HqG",
        "colab_type": "text"
      },
      "source": [
        "## **Modificando o index e colunas**"
      ]
    },
    {
      "cell_type": "code",
      "metadata": {
        "id": "DHWMTtQguA1A",
        "colab_type": "code",
        "outputId": "d1780aa0-c7c1-4548-bfa4-568eb25bb1d4",
        "colab": {
          "base_uri": "https://localhost:8080/",
          "height": 34
        }
      },
      "source": [
        "# Index atual\n",
        "df.index"
      ],
      "execution_count": 0,
      "outputs": [
        {
          "output_type": "execute_result",
          "data": {
            "text/plain": [
              "RangeIndex(start=0, stop=4, step=1)"
            ]
          },
          "metadata": {
            "tags": []
          },
          "execution_count": 67
        }
      ]
    },
    {
      "cell_type": "code",
      "metadata": {
        "id": "6OmUiGDcuA52",
        "colab_type": "code",
        "outputId": "3977329c-6703-4362-cf8c-eab98a8c8e3e",
        "colab": {
          "base_uri": "https://localhost:8080/",
          "height": 173
        }
      },
      "source": [
        "df.index = ['a', 'b', 'c', 'd']\n",
        "\n",
        "df"
      ],
      "execution_count": 0,
      "outputs": [
        {
          "output_type": "execute_result",
          "data": {
            "text/html": [
              "<div>\n",
              "<style scoped>\n",
              "    .dataframe tbody tr th:only-of-type {\n",
              "        vertical-align: middle;\n",
              "    }\n",
              "\n",
              "    .dataframe tbody tr th {\n",
              "        vertical-align: top;\n",
              "    }\n",
              "\n",
              "    .dataframe thead th {\n",
              "        text-align: right;\n",
              "    }\n",
              "</style>\n",
              "<table border=\"1\" class=\"dataframe\">\n",
              "  <thead>\n",
              "    <tr style=\"text-align: right;\">\n",
              "      <th></th>\n",
              "      <th>nome</th>\n",
              "      <th>idade</th>\n",
              "      <th>cidade</th>\n",
              "      <th>comprou</th>\n",
              "      <th>saldo</th>\n",
              "    </tr>\n",
              "  </thead>\n",
              "  <tbody>\n",
              "    <tr>\n",
              "      <th>a</th>\n",
              "      <td>Carlos</td>\n",
              "      <td>35</td>\n",
              "      <td>Araraquara</td>\n",
              "      <td>True</td>\n",
              "      <td>0.0</td>\n",
              "    </tr>\n",
              "    <tr>\n",
              "      <th>b</th>\n",
              "      <td>Pedro</td>\n",
              "      <td>32</td>\n",
              "      <td>Belém</td>\n",
              "      <td>False</td>\n",
              "      <td>0.0</td>\n",
              "    </tr>\n",
              "    <tr>\n",
              "      <th>c</th>\n",
              "      <td>Daniela</td>\n",
              "      <td>15</td>\n",
              "      <td>Natal</td>\n",
              "      <td>False</td>\n",
              "      <td>0.0</td>\n",
              "    </tr>\n",
              "    <tr>\n",
              "      <th>d</th>\n",
              "      <td>Fernada</td>\n",
              "      <td>49</td>\n",
              "      <td>Curitiba</td>\n",
              "      <td>True</td>\n",
              "      <td>0.0</td>\n",
              "    </tr>\n",
              "  </tbody>\n",
              "</table>\n",
              "</div>"
            ],
            "text/plain": [
              "      nome  idade      cidade  comprou  saldo\n",
              "a   Carlos     35  Araraquara     True    0.0\n",
              "b    Pedro     32       Belém    False    0.0\n",
              "c  Daniela     15       Natal    False    0.0\n",
              "d  Fernada     49    Curitiba     True    0.0"
            ]
          },
          "metadata": {
            "tags": []
          },
          "execution_count": 68
        }
      ]
    },
    {
      "cell_type": "markdown",
      "metadata": {
        "id": "fFsBVfDu7rFr",
        "colab_type": "text"
      },
      "source": [
        "## **Alterando o nome das colunas de um dataframe**"
      ]
    },
    {
      "cell_type": "code",
      "metadata": {
        "id": "396LwsQWuA87",
        "colab_type": "code",
        "outputId": "dce41104-4665-4a90-bb04-1f04068cd39b",
        "colab": {
          "base_uri": "https://localhost:8080/",
          "height": 173
        }
      },
      "source": [
        "df.columns = ['Nome', 'Idade', 'Cidade', 'Comprou', 'Saldo']\n",
        "\n",
        "df"
      ],
      "execution_count": 0,
      "outputs": [
        {
          "output_type": "execute_result",
          "data": {
            "text/html": [
              "<div>\n",
              "<style scoped>\n",
              "    .dataframe tbody tr th:only-of-type {\n",
              "        vertical-align: middle;\n",
              "    }\n",
              "\n",
              "    .dataframe tbody tr th {\n",
              "        vertical-align: top;\n",
              "    }\n",
              "\n",
              "    .dataframe thead th {\n",
              "        text-align: right;\n",
              "    }\n",
              "</style>\n",
              "<table border=\"1\" class=\"dataframe\">\n",
              "  <thead>\n",
              "    <tr style=\"text-align: right;\">\n",
              "      <th></th>\n",
              "      <th>Nome</th>\n",
              "      <th>Idade</th>\n",
              "      <th>Cidade</th>\n",
              "      <th>Comprou</th>\n",
              "      <th>Saldo</th>\n",
              "    </tr>\n",
              "  </thead>\n",
              "  <tbody>\n",
              "    <tr>\n",
              "      <th>a</th>\n",
              "      <td>Carlos</td>\n",
              "      <td>35</td>\n",
              "      <td>Araraquara</td>\n",
              "      <td>True</td>\n",
              "      <td>0.0</td>\n",
              "    </tr>\n",
              "    <tr>\n",
              "      <th>b</th>\n",
              "      <td>Pedro</td>\n",
              "      <td>32</td>\n",
              "      <td>Belém</td>\n",
              "      <td>False</td>\n",
              "      <td>0.0</td>\n",
              "    </tr>\n",
              "    <tr>\n",
              "      <th>c</th>\n",
              "      <td>Daniela</td>\n",
              "      <td>15</td>\n",
              "      <td>Natal</td>\n",
              "      <td>False</td>\n",
              "      <td>0.0</td>\n",
              "    </tr>\n",
              "    <tr>\n",
              "      <th>d</th>\n",
              "      <td>Fernada</td>\n",
              "      <td>49</td>\n",
              "      <td>Curitiba</td>\n",
              "      <td>True</td>\n",
              "      <td>0.0</td>\n",
              "    </tr>\n",
              "  </tbody>\n",
              "</table>\n",
              "</div>"
            ],
            "text/plain": [
              "      Nome  Idade      Cidade  Comprou  Saldo\n",
              "a   Carlos     35  Araraquara     True    0.0\n",
              "b    Pedro     32       Belém    False    0.0\n",
              "c  Daniela     15       Natal    False    0.0\n",
              "d  Fernada     49    Curitiba     True    0.0"
            ]
          },
          "metadata": {
            "tags": []
          },
          "execution_count": 69
        }
      ]
    },
    {
      "cell_type": "code",
      "metadata": {
        "id": "cSehvH0quA_5",
        "colab_type": "code",
        "outputId": "2612422b-d1e9-4b41-b098-2124a6117242",
        "colab": {
          "base_uri": "https://localhost:8080/",
          "height": 204
        }
      },
      "source": [
        "# Adicionando uma linha ao dataframe\n",
        "df = df.append({'Nome' : 'Diogo' , \n",
        "                'Idade' : 36,\n",
        "                'Cidade' : 'Curitiba',\n",
        "                'Comprou' : False,\n",
        "                'Saldo' : 10.0} , ignore_index=True)\n",
        "df"
      ],
      "execution_count": 0,
      "outputs": [
        {
          "output_type": "execute_result",
          "data": {
            "text/html": [
              "<div>\n",
              "<style scoped>\n",
              "    .dataframe tbody tr th:only-of-type {\n",
              "        vertical-align: middle;\n",
              "    }\n",
              "\n",
              "    .dataframe tbody tr th {\n",
              "        vertical-align: top;\n",
              "    }\n",
              "\n",
              "    .dataframe thead th {\n",
              "        text-align: right;\n",
              "    }\n",
              "</style>\n",
              "<table border=\"1\" class=\"dataframe\">\n",
              "  <thead>\n",
              "    <tr style=\"text-align: right;\">\n",
              "      <th></th>\n",
              "      <th>Nome</th>\n",
              "      <th>Idade</th>\n",
              "      <th>Cidade</th>\n",
              "      <th>Comprou</th>\n",
              "      <th>Saldo</th>\n",
              "    </tr>\n",
              "  </thead>\n",
              "  <tbody>\n",
              "    <tr>\n",
              "      <th>0</th>\n",
              "      <td>Carlos</td>\n",
              "      <td>35</td>\n",
              "      <td>Araraquara</td>\n",
              "      <td>True</td>\n",
              "      <td>0.0</td>\n",
              "    </tr>\n",
              "    <tr>\n",
              "      <th>1</th>\n",
              "      <td>Pedro</td>\n",
              "      <td>32</td>\n",
              "      <td>Belém</td>\n",
              "      <td>False</td>\n",
              "      <td>0.0</td>\n",
              "    </tr>\n",
              "    <tr>\n",
              "      <th>2</th>\n",
              "      <td>Daniela</td>\n",
              "      <td>15</td>\n",
              "      <td>Natal</td>\n",
              "      <td>False</td>\n",
              "      <td>0.0</td>\n",
              "    </tr>\n",
              "    <tr>\n",
              "      <th>3</th>\n",
              "      <td>Fernada</td>\n",
              "      <td>49</td>\n",
              "      <td>Curitiba</td>\n",
              "      <td>True</td>\n",
              "      <td>0.0</td>\n",
              "    </tr>\n",
              "    <tr>\n",
              "      <th>4</th>\n",
              "      <td>Diogo</td>\n",
              "      <td>36</td>\n",
              "      <td>Curitiba</td>\n",
              "      <td>False</td>\n",
              "      <td>10.0</td>\n",
              "    </tr>\n",
              "  </tbody>\n",
              "</table>\n",
              "</div>"
            ],
            "text/plain": [
              "      Nome  Idade      Cidade  Comprou  Saldo\n",
              "0   Carlos     35  Araraquara     True    0.0\n",
              "1    Pedro     32       Belém    False    0.0\n",
              "2  Daniela     15       Natal    False    0.0\n",
              "3  Fernada     49    Curitiba     True    0.0\n",
              "4    Diogo     36    Curitiba    False   10.0"
            ]
          },
          "metadata": {
            "tags": []
          },
          "execution_count": 70
        }
      ]
    },
    {
      "cell_type": "code",
      "metadata": {
        "id": "JvTCFJ5vuBC8",
        "colab_type": "code",
        "outputId": "c0ca1276-c13d-42d7-ac64-00bc5f3c11d6",
        "colab": {
          "base_uri": "https://localhost:8080/",
          "height": 119
        }
      },
      "source": [
        "# Calculando a média de idade por cidade\n",
        "df['Idade'].groupby(df['Cidade']).mean()"
      ],
      "execution_count": 0,
      "outputs": [
        {
          "output_type": "execute_result",
          "data": {
            "text/plain": [
              "Cidade\n",
              "Araraquara    35.0\n",
              "Belém         32.0\n",
              "Curitiba      42.5\n",
              "Natal         15.0\n",
              "Name: Idade, dtype: float64"
            ]
          },
          "metadata": {
            "tags": []
          },
          "execution_count": 71
        }
      ]
    },
    {
      "cell_type": "markdown",
      "metadata": {
        "id": "ru4g6BsGzHpK",
        "colab_type": "text"
      },
      "source": [
        "## **Criando Dataframes a partir de arquivos csv**"
      ]
    },
    {
      "cell_type": "code",
      "metadata": {
        "id": "Q_GMmlIwoAid",
        "colab_type": "code",
        "colab": {}
      },
      "source": [
        "# Importando a biblioteca do pandas\n",
        "import pandas as pd"
      ],
      "execution_count": 0,
      "outputs": []
    },
    {
      "cell_type": "code",
      "metadata": {
        "id": "XaQi-L5CsaNE",
        "colab_type": "code",
        "colab": {}
      },
      "source": [
        "# Criando um dataframe a partir de um arquivo .csv\n",
        "df = pd.read_csv(\"https://raw.githubusercontent.com/diogorjs/we_love_data/datascience_training/2019_nC0v_20200121_20200126_cleaned.csv\", error_bad_lines=False)"
      ],
      "execution_count": 0,
      "outputs": []
    },
    {
      "cell_type": "code",
      "metadata": {
        "id": "N4BfZWASsvcL",
        "colab_type": "code",
        "outputId": "1605a787-282d-45e6-9834-f73b09147050",
        "colab": {
          "base_uri": "https://localhost:8080/",
          "height": 34
        }
      },
      "source": [
        "# Verificando o tamanho do dataframe\n",
        "df.shape"
      ],
      "execution_count": 0,
      "outputs": [
        {
          "output_type": "execute_result",
          "data": {
            "text/plain": [
              "(368, 8)"
            ]
          },
          "metadata": {
            "tags": []
          },
          "execution_count": 74
        }
      ]
    },
    {
      "cell_type": "code",
      "metadata": {
        "id": "1Qm0zK4Gs2ur",
        "colab_type": "code",
        "outputId": "6fe1918c-67de-4b1d-b831-24d841372acb",
        "colab": {
          "base_uri": "https://localhost:8080/",
          "height": 204
        }
      },
      "source": [
        "# Verificando as 5 primeiras linhas do dataframe\n",
        "df.head(5)"
      ],
      "execution_count": 0,
      "outputs": [
        {
          "output_type": "execute_result",
          "data": {
            "text/html": [
              "<div>\n",
              "<style scoped>\n",
              "    .dataframe tbody tr th:only-of-type {\n",
              "        vertical-align: middle;\n",
              "    }\n",
              "\n",
              "    .dataframe tbody tr th {\n",
              "        vertical-align: top;\n",
              "    }\n",
              "\n",
              "    .dataframe thead th {\n",
              "        text-align: right;\n",
              "    }\n",
              "</style>\n",
              "<table border=\"1\" class=\"dataframe\">\n",
              "  <thead>\n",
              "    <tr style=\"text-align: right;\">\n",
              "      <th></th>\n",
              "      <th>RowNum</th>\n",
              "      <th>Province/State</th>\n",
              "      <th>Country</th>\n",
              "      <th>Date last updated</th>\n",
              "      <th>Confirmed</th>\n",
              "      <th>Suspected</th>\n",
              "      <th>Recovered</th>\n",
              "      <th>Deaths</th>\n",
              "    </tr>\n",
              "  </thead>\n",
              "  <tbody>\n",
              "    <tr>\n",
              "      <th>0</th>\n",
              "      <td>0</td>\n",
              "      <td>Shanghai</td>\n",
              "      <td>Mainland China</td>\n",
              "      <td>1/21/2020</td>\n",
              "      <td>9.0</td>\n",
              "      <td>10.0</td>\n",
              "      <td>0.0</td>\n",
              "      <td>0.0</td>\n",
              "    </tr>\n",
              "    <tr>\n",
              "      <th>1</th>\n",
              "      <td>1</td>\n",
              "      <td>Yunnan</td>\n",
              "      <td>Mainland China</td>\n",
              "      <td>1/21/2020</td>\n",
              "      <td>1.0</td>\n",
              "      <td>0.0</td>\n",
              "      <td>0.0</td>\n",
              "      <td>0.0</td>\n",
              "    </tr>\n",
              "    <tr>\n",
              "      <th>2</th>\n",
              "      <td>2</td>\n",
              "      <td>Beijing</td>\n",
              "      <td>Mainland China</td>\n",
              "      <td>1/21/2020</td>\n",
              "      <td>10.0</td>\n",
              "      <td>0.0</td>\n",
              "      <td>0.0</td>\n",
              "      <td>0.0</td>\n",
              "    </tr>\n",
              "    <tr>\n",
              "      <th>3</th>\n",
              "      <td>3</td>\n",
              "      <td>Taiwan</td>\n",
              "      <td>Taiwan</td>\n",
              "      <td>1/21/2020</td>\n",
              "      <td>1.0</td>\n",
              "      <td>0.0</td>\n",
              "      <td>0.0</td>\n",
              "      <td>0.0</td>\n",
              "    </tr>\n",
              "    <tr>\n",
              "      <th>4</th>\n",
              "      <td>4</td>\n",
              "      <td>Jilin</td>\n",
              "      <td>Mainland China</td>\n",
              "      <td>1/21/2020</td>\n",
              "      <td>0.0</td>\n",
              "      <td>1.0</td>\n",
              "      <td>0.0</td>\n",
              "      <td>0.0</td>\n",
              "    </tr>\n",
              "  </tbody>\n",
              "</table>\n",
              "</div>"
            ],
            "text/plain": [
              "   RowNum Province/State         Country  ... Suspected  Recovered  Deaths\n",
              "0       0       Shanghai  Mainland China  ...      10.0        0.0     0.0\n",
              "1       1         Yunnan  Mainland China  ...       0.0        0.0     0.0\n",
              "2       2        Beijing  Mainland China  ...       0.0        0.0     0.0\n",
              "3       3         Taiwan          Taiwan  ...       0.0        0.0     0.0\n",
              "4       4          Jilin  Mainland China  ...       1.0        0.0     0.0\n",
              "\n",
              "[5 rows x 8 columns]"
            ]
          },
          "metadata": {
            "tags": []
          },
          "execution_count": 75
        }
      ]
    },
    {
      "cell_type": "code",
      "metadata": {
        "id": "UJ4d5GCKtUXB",
        "colab_type": "code",
        "outputId": "3ddc32f0-7f73-4427-b14f-303c8427ff2d",
        "colab": {
          "base_uri": "https://localhost:8080/",
          "height": 204
        }
      },
      "source": [
        "# Verificando as 5 ultimas linhas do dataframe\n",
        "df.tail(5)"
      ],
      "execution_count": 0,
      "outputs": [
        {
          "output_type": "execute_result",
          "data": {
            "text/html": [
              "<div>\n",
              "<style scoped>\n",
              "    .dataframe tbody tr th:only-of-type {\n",
              "        vertical-align: middle;\n",
              "    }\n",
              "\n",
              "    .dataframe tbody tr th {\n",
              "        vertical-align: top;\n",
              "    }\n",
              "\n",
              "    .dataframe thead th {\n",
              "        text-align: right;\n",
              "    }\n",
              "</style>\n",
              "<table border=\"1\" class=\"dataframe\">\n",
              "  <thead>\n",
              "    <tr style=\"text-align: right;\">\n",
              "      <th></th>\n",
              "      <th>RowNum</th>\n",
              "      <th>Province/State</th>\n",
              "      <th>Country</th>\n",
              "      <th>Date last updated</th>\n",
              "      <th>Confirmed</th>\n",
              "      <th>Suspected</th>\n",
              "      <th>Recovered</th>\n",
              "      <th>Deaths</th>\n",
              "    </tr>\n",
              "  </thead>\n",
              "  <tbody>\n",
              "    <tr>\n",
              "      <th>363</th>\n",
              "      <td>363</td>\n",
              "      <td>0</td>\n",
              "      <td>France</td>\n",
              "      <td>1/26/2020 11:00 AM</td>\n",
              "      <td>3.0</td>\n",
              "      <td>0.0</td>\n",
              "      <td>0.0</td>\n",
              "      <td>0.0</td>\n",
              "    </tr>\n",
              "    <tr>\n",
              "      <th>364</th>\n",
              "      <td>364</td>\n",
              "      <td>0</td>\n",
              "      <td>Australia</td>\n",
              "      <td>1/26/2020 11:00 AM</td>\n",
              "      <td>4.0</td>\n",
              "      <td>0.0</td>\n",
              "      <td>0.0</td>\n",
              "      <td>0.0</td>\n",
              "    </tr>\n",
              "    <tr>\n",
              "      <th>365</th>\n",
              "      <td>365</td>\n",
              "      <td>0</td>\n",
              "      <td>Nepal</td>\n",
              "      <td>1/26/2020 11:00 AM</td>\n",
              "      <td>1.0</td>\n",
              "      <td>0.0</td>\n",
              "      <td>0.0</td>\n",
              "      <td>0.0</td>\n",
              "    </tr>\n",
              "    <tr>\n",
              "      <th>366</th>\n",
              "      <td>366</td>\n",
              "      <td>0</td>\n",
              "      <td>Malaysia</td>\n",
              "      <td>1/26/2020 11:00 AM</td>\n",
              "      <td>4.0</td>\n",
              "      <td>0.0</td>\n",
              "      <td>0.0</td>\n",
              "      <td>0.0</td>\n",
              "    </tr>\n",
              "    <tr>\n",
              "      <th>367</th>\n",
              "      <td>367</td>\n",
              "      <td>Ontario</td>\n",
              "      <td>Canada</td>\n",
              "      <td>1/26/2020 11:00 AM</td>\n",
              "      <td>1.0</td>\n",
              "      <td>0.0</td>\n",
              "      <td>0.0</td>\n",
              "      <td>0.0</td>\n",
              "    </tr>\n",
              "  </tbody>\n",
              "</table>\n",
              "</div>"
            ],
            "text/plain": [
              "     RowNum Province/State    Country  ... Suspected  Recovered  Deaths\n",
              "363     363              0     France  ...       0.0        0.0     0.0\n",
              "364     364              0  Australia  ...       0.0        0.0     0.0\n",
              "365     365              0      Nepal  ...       0.0        0.0     0.0\n",
              "366     366              0   Malaysia  ...       0.0        0.0     0.0\n",
              "367     367        Ontario     Canada  ...       0.0        0.0     0.0\n",
              "\n",
              "[5 rows x 8 columns]"
            ]
          },
          "metadata": {
            "tags": []
          },
          "execution_count": 76
        }
      ]
    },
    {
      "cell_type": "code",
      "metadata": {
        "id": "7MWCzPFptihf",
        "colab_type": "code",
        "outputId": "e911bb66-3206-42d0-cc79-14515e8c758f",
        "colab": {
          "base_uri": "https://localhost:8080/",
          "height": 68
        }
      },
      "source": [
        "# Ver o nome das colunas\n",
        "df.columns"
      ],
      "execution_count": 0,
      "outputs": [
        {
          "output_type": "execute_result",
          "data": {
            "text/plain": [
              "Index(['RowNum', 'Province/State', 'Country', 'Date last updated', 'Confirmed',\n",
              "       'Suspected', 'Recovered', 'Deaths'],\n",
              "      dtype='object')"
            ]
          },
          "metadata": {
            "tags": []
          },
          "execution_count": 77
        }
      ]
    },
    {
      "cell_type": "code",
      "metadata": {
        "id": "54qIwPKPto5z",
        "colab_type": "code",
        "outputId": "d41f29b4-1682-4529-c351-98c05da7cf7d",
        "colab": {
          "base_uri": "https://localhost:8080/",
          "height": 119
        }
      },
      "source": [
        "# Selecionar 5 primeiros valores somente para coluna Confirmed\n",
        "df['Confirmed'].head(5)"
      ],
      "execution_count": 0,
      "outputs": [
        {
          "output_type": "execute_result",
          "data": {
            "text/plain": [
              "0     9.0\n",
              "1     1.0\n",
              "2    10.0\n",
              "3     1.0\n",
              "4     0.0\n",
              "Name: Confirmed, dtype: float64"
            ]
          },
          "metadata": {
            "tags": []
          },
          "execution_count": 78
        }
      ]
    },
    {
      "cell_type": "code",
      "metadata": {
        "id": "m-yppuC0t-tT",
        "colab_type": "code",
        "outputId": "e0fcf675-2ad8-4b66-c68e-49e26d015f0c",
        "colab": {
          "base_uri": "https://localhost:8080/",
          "height": 34
        }
      },
      "source": [
        "# Calculando a média para os valores da coluna Confirmed\n",
        "df['Confirmed'].mean()"
      ],
      "execution_count": 0,
      "outputs": [
        {
          "output_type": "execute_result",
          "data": {
            "text/plain": [
              "27.95923913043478"
            ]
          },
          "metadata": {
            "tags": []
          },
          "execution_count": 79
        }
      ]
    },
    {
      "cell_type": "code",
      "metadata": {
        "id": "DK5r-YVit_b-",
        "colab_type": "code",
        "outputId": "6c1754d1-8bb0-473a-c3a7-c25a0196e7fb",
        "colab": {
          "base_uri": "https://localhost:8080/",
          "height": 34
        }
      },
      "source": [
        "# Valor máximo da coluna Confirmed\n",
        "df['Confirmed'].max()"
      ],
      "execution_count": 0,
      "outputs": [
        {
          "output_type": "execute_result",
          "data": {
            "text/plain": [
              "1058.0"
            ]
          },
          "metadata": {
            "tags": []
          },
          "execution_count": 80
        }
      ]
    },
    {
      "cell_type": "code",
      "metadata": {
        "id": "tF3NCi_LuAmJ",
        "colab_type": "code",
        "outputId": "e0c93282-7913-45e8-e861-0777041608ec",
        "colab": {
          "base_uri": "https://localhost:8080/",
          "height": 34
        }
      },
      "source": [
        "# Valor mínimo da coluna Confirmed\n",
        "df['Confirmed'].min()"
      ],
      "execution_count": 0,
      "outputs": [
        {
          "output_type": "execute_result",
          "data": {
            "text/plain": [
              "0.0"
            ]
          },
          "metadata": {
            "tags": []
          },
          "execution_count": 81
        }
      ]
    },
    {
      "cell_type": "markdown",
      "metadata": {
        "id": "mfK0jSTeFbJj",
        "colab_type": "text"
      },
      "source": [
        "## **Informações estatísticas com pandas**"
      ]
    },
    {
      "cell_type": "markdown",
      "metadata": {
        "id": "rkj3mIZgtt1n",
        "colab_type": "text"
      },
      "source": [
        "### **Resumo das informações estatísticas** ###"
      ]
    },
    {
      "cell_type": "code",
      "metadata": {
        "id": "nFWiYaSkuA4I",
        "colab_type": "code",
        "outputId": "5a5f747e-a9a9-499c-8eee-04cf8108e044",
        "colab": {
          "base_uri": "https://localhost:8080/",
          "height": 297
        }
      },
      "source": [
        "# Descrição estatística do dataframe\n",
        "df.describe()"
      ],
      "execution_count": 0,
      "outputs": [
        {
          "output_type": "execute_result",
          "data": {
            "text/html": [
              "<div>\n",
              "<style scoped>\n",
              "    .dataframe tbody tr th:only-of-type {\n",
              "        vertical-align: middle;\n",
              "    }\n",
              "\n",
              "    .dataframe tbody tr th {\n",
              "        vertical-align: top;\n",
              "    }\n",
              "\n",
              "    .dataframe thead th {\n",
              "        text-align: right;\n",
              "    }\n",
              "</style>\n",
              "<table border=\"1\" class=\"dataframe\">\n",
              "  <thead>\n",
              "    <tr style=\"text-align: right;\">\n",
              "      <th></th>\n",
              "      <th>RowNum</th>\n",
              "      <th>Confirmed</th>\n",
              "      <th>Suspected</th>\n",
              "      <th>Recovered</th>\n",
              "      <th>Deaths</th>\n",
              "    </tr>\n",
              "  </thead>\n",
              "  <tbody>\n",
              "    <tr>\n",
              "      <th>count</th>\n",
              "      <td>368.000000</td>\n",
              "      <td>368.000000</td>\n",
              "      <td>368.000000</td>\n",
              "      <td>368.000000</td>\n",
              "      <td>368.000000</td>\n",
              "    </tr>\n",
              "    <tr>\n",
              "      <th>mean</th>\n",
              "      <td>183.500000</td>\n",
              "      <td>27.959239</td>\n",
              "      <td>5.407609</td>\n",
              "      <td>0.755435</td>\n",
              "      <td>0.720109</td>\n",
              "    </tr>\n",
              "    <tr>\n",
              "      <th>std</th>\n",
              "      <td>106.376689</td>\n",
              "      <td>108.327568</td>\n",
              "      <td>25.367858</td>\n",
              "      <td>4.707808</td>\n",
              "      <td>5.166485</td>\n",
              "    </tr>\n",
              "    <tr>\n",
              "      <th>min</th>\n",
              "      <td>0.000000</td>\n",
              "      <td>0.000000</td>\n",
              "      <td>0.000000</td>\n",
              "      <td>0.000000</td>\n",
              "      <td>0.000000</td>\n",
              "    </tr>\n",
              "    <tr>\n",
              "      <th>25%</th>\n",
              "      <td>91.750000</td>\n",
              "      <td>2.000000</td>\n",
              "      <td>0.000000</td>\n",
              "      <td>0.000000</td>\n",
              "      <td>0.000000</td>\n",
              "    </tr>\n",
              "    <tr>\n",
              "      <th>50%</th>\n",
              "      <td>183.500000</td>\n",
              "      <td>4.000000</td>\n",
              "      <td>0.000000</td>\n",
              "      <td>0.000000</td>\n",
              "      <td>0.000000</td>\n",
              "    </tr>\n",
              "    <tr>\n",
              "      <th>75%</th>\n",
              "      <td>275.250000</td>\n",
              "      <td>16.000000</td>\n",
              "      <td>0.000000</td>\n",
              "      <td>0.000000</td>\n",
              "      <td>0.000000</td>\n",
              "    </tr>\n",
              "    <tr>\n",
              "      <th>max</th>\n",
              "      <td>367.000000</td>\n",
              "      <td>1058.000000</td>\n",
              "      <td>244.000000</td>\n",
              "      <td>42.000000</td>\n",
              "      <td>52.000000</td>\n",
              "    </tr>\n",
              "  </tbody>\n",
              "</table>\n",
              "</div>"
            ],
            "text/plain": [
              "           RowNum    Confirmed   Suspected   Recovered      Deaths\n",
              "count  368.000000   368.000000  368.000000  368.000000  368.000000\n",
              "mean   183.500000    27.959239    5.407609    0.755435    0.720109\n",
              "std    106.376689   108.327568   25.367858    4.707808    5.166485\n",
              "min      0.000000     0.000000    0.000000    0.000000    0.000000\n",
              "25%     91.750000     2.000000    0.000000    0.000000    0.000000\n",
              "50%    183.500000     4.000000    0.000000    0.000000    0.000000\n",
              "75%    275.250000    16.000000    0.000000    0.000000    0.000000\n",
              "max    367.000000  1058.000000  244.000000   42.000000   52.000000"
            ]
          },
          "metadata": {
            "tags": []
          },
          "execution_count": 82
        }
      ]
    },
    {
      "cell_type": "markdown",
      "metadata": {
        "id": "wHFJyfupvC8g",
        "colab_type": "text"
      },
      "source": [
        "### **Média** ###"
      ]
    },
    {
      "cell_type": "code",
      "metadata": {
        "id": "McV2bKfQMryq",
        "colab_type": "code",
        "outputId": "7fbd8fd4-795a-4a09-a2da-4e46216168ef",
        "colab": {
          "base_uri": "https://localhost:8080/",
          "height": 34
        }
      },
      "source": [
        "# Calculando a média da coluna Confirmed\n",
        "df.Confirmed.mean()"
      ],
      "execution_count": 0,
      "outputs": [
        {
          "output_type": "execute_result",
          "data": {
            "text/plain": [
              "27.95923913043478"
            ]
          },
          "metadata": {
            "tags": []
          },
          "execution_count": 83
        }
      ]
    },
    {
      "cell_type": "markdown",
      "metadata": {
        "id": "yBTe6Wm5vfCU",
        "colab_type": "text"
      },
      "source": [
        "### **Mediana** ###"
      ]
    },
    {
      "cell_type": "code",
      "metadata": {
        "id": "E_qnmtOpvZLi",
        "colab_type": "code",
        "outputId": "3d220a01-d2e6-4a5f-af99-1fc1697b5918",
        "colab": {
          "base_uri": "https://localhost:8080/",
          "height": 34
        }
      },
      "source": [
        "# Calculando a mediana da coluna Confirmed\n",
        "df.Confirmed.median()"
      ],
      "execution_count": 0,
      "outputs": [
        {
          "output_type": "execute_result",
          "data": {
            "text/plain": [
              "4.0"
            ]
          },
          "metadata": {
            "tags": []
          },
          "execution_count": 84
        }
      ]
    },
    {
      "cell_type": "markdown",
      "metadata": {
        "id": "R7ys4P85PZ2V",
        "colab_type": "text"
      },
      "source": [
        "### **Moda** ###\n"
      ]
    },
    {
      "cell_type": "code",
      "metadata": {
        "id": "y9x0d-K9PgH0",
        "colab_type": "code",
        "outputId": "31f34f94-e15c-46c2-a3ac-f8f09d13e06c",
        "colab": {
          "base_uri": "https://localhost:8080/",
          "height": 51
        }
      },
      "source": [
        "# Calculando a moda\n",
        "df.Confirmed.mode()"
      ],
      "execution_count": 0,
      "outputs": [
        {
          "output_type": "execute_result",
          "data": {
            "text/plain": [
              "0    1.0\n",
              "dtype: float64"
            ]
          },
          "metadata": {
            "tags": []
          },
          "execution_count": 85
        }
      ]
    },
    {
      "cell_type": "markdown",
      "metadata": {
        "id": "vqhhd1F0vsT0",
        "colab_type": "text"
      },
      "source": [
        "### **Desvio Padrão** ###"
      ]
    },
    {
      "cell_type": "code",
      "metadata": {
        "id": "BqYWcurRvqc9",
        "colab_type": "code",
        "outputId": "733dff24-5695-4b7e-f1d0-9104fd2a1802",
        "colab": {
          "base_uri": "https://localhost:8080/",
          "height": 34
        }
      },
      "source": [
        "# Calculando o desvio padrão da coluna Confirmed\n",
        "df.Confirmed.std()"
      ],
      "execution_count": 0,
      "outputs": [
        {
          "output_type": "execute_result",
          "data": {
            "text/plain": [
              "108.32756848670792"
            ]
          },
          "metadata": {
            "tags": []
          },
          "execution_count": 86
        }
      ]
    },
    {
      "cell_type": "markdown",
      "metadata": {
        "id": "Sml2HtuwwTwD",
        "colab_type": "text"
      },
      "source": [
        "### **Valores Máximos e Mínimos** ###"
      ]
    },
    {
      "cell_type": "code",
      "metadata": {
        "id": "mkKctUh0v01H",
        "colab_type": "code",
        "outputId": "e1d75762-c69f-4c98-8777-f7d58510b1ab",
        "colab": {
          "base_uri": "https://localhost:8080/",
          "height": 34
        }
      },
      "source": [
        "# Valor mínimo\n",
        "df.Confirmed.min()"
      ],
      "execution_count": 0,
      "outputs": [
        {
          "output_type": "execute_result",
          "data": {
            "text/plain": [
              "0.0"
            ]
          },
          "metadata": {
            "tags": []
          },
          "execution_count": 87
        }
      ]
    },
    {
      "cell_type": "code",
      "metadata": {
        "id": "CP70oZ9OwfiS",
        "colab_type": "code",
        "outputId": "6c403415-7fc5-4d0b-98d0-7afe230ef92f",
        "colab": {
          "base_uri": "https://localhost:8080/",
          "height": 34
        }
      },
      "source": [
        "# Valor Máximo\n",
        "df.Confirmed.max()"
      ],
      "execution_count": 0,
      "outputs": [
        {
          "output_type": "execute_result",
          "data": {
            "text/plain": [
              "1058.0"
            ]
          },
          "metadata": {
            "tags": []
          },
          "execution_count": 88
        }
      ]
    },
    {
      "cell_type": "markdown",
      "metadata": {
        "id": "wTqcGYdoCzKp",
        "colab_type": "text"
      },
      "source": [
        "## **Visualizando dados com pandas**\n",
        "\n",
        "A visualização de dados é uma parte importante no processo de análise e exploração de dados pois a mesma nos ajuda a entender como os mesmos estão distribuídos\n",
        "\n",
        "Para este exemplo vamos utilizar o arquivo com as cotações da ação do Banco do Brasil em 2019"
      ]
    },
    {
      "cell_type": "code",
      "metadata": {
        "id": "gSg7WvUzGNLo",
        "colab_type": "code",
        "colab": {}
      },
      "source": [
        "# Criando um dataframe a partir de um arquivo .csv\n",
        "    # error_bad_lines=False: Esta opção faz com que as linhas com erro sejam ignoradas\n",
        "    # index_col='Date': Transforma a coluna Date como index do Dataframe\n",
        "df = pd.read_csv(\"https://raw.githubusercontent.com/diogorjs/we_love_data/master/BBAS3.SA.csv\", error_bad_lines=False, parse_dates=True, index_col='Date')"
      ],
      "execution_count": 0,
      "outputs": []
    },
    {
      "cell_type": "code",
      "metadata": {
        "id": "rzvcFEG5Gf_g",
        "colab_type": "code",
        "outputId": "1fc3731f-8d16-48a1-a13e-37e57e291d49",
        "colab": {
          "base_uri": "https://localhost:8080/",
          "height": 34
        }
      },
      "source": [
        "# Verificando as colunas existentes no arquivo\n",
        "df.columns"
      ],
      "execution_count": 0,
      "outputs": [
        {
          "output_type": "execute_result",
          "data": {
            "text/plain": [
              "Index(['Open', 'High', 'Low', 'Close', 'Adj Close', 'Volume'], dtype='object')"
            ]
          },
          "metadata": {
            "tags": []
          },
          "execution_count": 90
        }
      ]
    },
    {
      "cell_type": "code",
      "metadata": {
        "id": "ohtyT8DVLurq",
        "colab_type": "code",
        "outputId": "30c2fd47-d10f-41e1-a88c-3a122062c999",
        "colab": {
          "base_uri": "https://localhost:8080/",
          "height": 390
        }
      },
      "source": [
        "# Verificando as primeiras 10 linhas do arquivo\n",
        "df.head(10)"
      ],
      "execution_count": 0,
      "outputs": [
        {
          "output_type": "execute_result",
          "data": {
            "text/html": [
              "<div>\n",
              "<style scoped>\n",
              "    .dataframe tbody tr th:only-of-type {\n",
              "        vertical-align: middle;\n",
              "    }\n",
              "\n",
              "    .dataframe tbody tr th {\n",
              "        vertical-align: top;\n",
              "    }\n",
              "\n",
              "    .dataframe thead th {\n",
              "        text-align: right;\n",
              "    }\n",
              "</style>\n",
              "<table border=\"1\" class=\"dataframe\">\n",
              "  <thead>\n",
              "    <tr style=\"text-align: right;\">\n",
              "      <th></th>\n",
              "      <th>Open</th>\n",
              "      <th>High</th>\n",
              "      <th>Low</th>\n",
              "      <th>Close</th>\n",
              "      <th>Adj Close</th>\n",
              "      <th>Volume</th>\n",
              "    </tr>\n",
              "    <tr>\n",
              "      <th>Date</th>\n",
              "      <th></th>\n",
              "      <th></th>\n",
              "      <th></th>\n",
              "      <th></th>\n",
              "      <th></th>\n",
              "      <th></th>\n",
              "    </tr>\n",
              "  </thead>\n",
              "  <tbody>\n",
              "    <tr>\n",
              "      <th>2019-02-14</th>\n",
              "      <td>53.200001</td>\n",
              "      <td>54.980000</td>\n",
              "      <td>52.080002</td>\n",
              "      <td>54.740002</td>\n",
              "      <td>51.383011</td>\n",
              "      <td>27857700.0</td>\n",
              "    </tr>\n",
              "    <tr>\n",
              "      <th>2019-02-15</th>\n",
              "      <td>54.700001</td>\n",
              "      <td>55.480000</td>\n",
              "      <td>54.270000</td>\n",
              "      <td>54.810001</td>\n",
              "      <td>51.448715</td>\n",
              "      <td>12532600.0</td>\n",
              "    </tr>\n",
              "    <tr>\n",
              "      <th>2019-02-18</th>\n",
              "      <td>54.360001</td>\n",
              "      <td>54.779999</td>\n",
              "      <td>53.529999</td>\n",
              "      <td>54.270000</td>\n",
              "      <td>50.941837</td>\n",
              "      <td>8809400.0</td>\n",
              "    </tr>\n",
              "    <tr>\n",
              "      <th>2019-02-19</th>\n",
              "      <td>54.430000</td>\n",
              "      <td>55.910000</td>\n",
              "      <td>54.320000</td>\n",
              "      <td>54.500000</td>\n",
              "      <td>51.157730</td>\n",
              "      <td>13553400.0</td>\n",
              "    </tr>\n",
              "    <tr>\n",
              "      <th>2019-02-20</th>\n",
              "      <td>55.279999</td>\n",
              "      <td>55.520000</td>\n",
              "      <td>52.959999</td>\n",
              "      <td>52.959999</td>\n",
              "      <td>49.712166</td>\n",
              "      <td>16672300.0</td>\n",
              "    </tr>\n",
              "    <tr>\n",
              "      <th>2019-02-21</th>\n",
              "      <td>53.450001</td>\n",
              "      <td>53.889999</td>\n",
              "      <td>52.900002</td>\n",
              "      <td>53.200001</td>\n",
              "      <td>49.937458</td>\n",
              "      <td>10342700.0</td>\n",
              "    </tr>\n",
              "    <tr>\n",
              "      <th>2019-02-22</th>\n",
              "      <td>53.200001</td>\n",
              "      <td>53.500000</td>\n",
              "      <td>52.580002</td>\n",
              "      <td>53.090000</td>\n",
              "      <td>50.394882</td>\n",
              "      <td>7260200.0</td>\n",
              "    </tr>\n",
              "    <tr>\n",
              "      <th>2019-02-25</th>\n",
              "      <td>53.669998</td>\n",
              "      <td>53.770000</td>\n",
              "      <td>52.200001</td>\n",
              "      <td>52.220001</td>\n",
              "      <td>49.569046</td>\n",
              "      <td>10139000.0</td>\n",
              "    </tr>\n",
              "    <tr>\n",
              "      <th>2019-02-26</th>\n",
              "      <td>52.299999</td>\n",
              "      <td>52.919998</td>\n",
              "      <td>52.000000</td>\n",
              "      <td>52.500000</td>\n",
              "      <td>49.834831</td>\n",
              "      <td>7287300.0</td>\n",
              "    </tr>\n",
              "    <tr>\n",
              "      <th>2019-02-27</th>\n",
              "      <td>52.470001</td>\n",
              "      <td>52.689999</td>\n",
              "      <td>51.849998</td>\n",
              "      <td>51.900002</td>\n",
              "      <td>49.265289</td>\n",
              "      <td>6269600.0</td>\n",
              "    </tr>\n",
              "  </tbody>\n",
              "</table>\n",
              "</div>"
            ],
            "text/plain": [
              "                 Open       High        Low      Close  Adj Close      Volume\n",
              "Date                                                                         \n",
              "2019-02-14  53.200001  54.980000  52.080002  54.740002  51.383011  27857700.0\n",
              "2019-02-15  54.700001  55.480000  54.270000  54.810001  51.448715  12532600.0\n",
              "2019-02-18  54.360001  54.779999  53.529999  54.270000  50.941837   8809400.0\n",
              "2019-02-19  54.430000  55.910000  54.320000  54.500000  51.157730  13553400.0\n",
              "2019-02-20  55.279999  55.520000  52.959999  52.959999  49.712166  16672300.0\n",
              "2019-02-21  53.450001  53.889999  52.900002  53.200001  49.937458  10342700.0\n",
              "2019-02-22  53.200001  53.500000  52.580002  53.090000  50.394882   7260200.0\n",
              "2019-02-25  53.669998  53.770000  52.200001  52.220001  49.569046  10139000.0\n",
              "2019-02-26  52.299999  52.919998  52.000000  52.500000  49.834831   7287300.0\n",
              "2019-02-27  52.470001  52.689999  51.849998  51.900002  49.265289   6269600.0"
            ]
          },
          "metadata": {
            "tags": []
          },
          "execution_count": 91
        }
      ]
    },
    {
      "cell_type": "code",
      "metadata": {
        "id": "cKNVkJNUGkk-",
        "colab_type": "code",
        "outputId": "fda88eb6-891f-46cb-a200-7c1d4c02e797",
        "colab": {
          "base_uri": "https://localhost:8080/",
          "height": 153
        }
      },
      "source": [
        "# Verificando o index\n",
        "df.index"
      ],
      "execution_count": 0,
      "outputs": [
        {
          "output_type": "execute_result",
          "data": {
            "text/plain": [
              "DatetimeIndex(['2019-02-14', '2019-02-15', '2019-02-18', '2019-02-19',\n",
              "               '2019-02-20', '2019-02-21', '2019-02-22', '2019-02-25',\n",
              "               '2019-02-26', '2019-02-27',\n",
              "               ...\n",
              "               '2020-01-31', '2020-02-03', '2020-02-04', '2020-02-05',\n",
              "               '2020-02-06', '2020-02-07', '2020-02-10', '2020-02-11',\n",
              "               '2020-02-12', '2020-02-13'],\n",
              "              dtype='datetime64[ns]', name='Date', length=249, freq=None)"
            ]
          },
          "metadata": {
            "tags": []
          },
          "execution_count": 92
        }
      ]
    },
    {
      "cell_type": "markdown",
      "metadata": {
        "id": "JhWfDV7xNrWk",
        "colab_type": "text"
      },
      "source": [
        "### **Gráfico de Linha**"
      ]
    },
    {
      "cell_type": "code",
      "metadata": {
        "id": "3kwijfgCNj1S",
        "colab_type": "code",
        "outputId": "da34731d-08dd-4a72-e4b4-23d3b4cffc1f",
        "colab": {
          "base_uri": "https://localhost:8080/",
          "height": 277
        }
      },
      "source": [
        "# Gráfico mostrando os valores máximos para cada dia\n",
        "df['High'].plot();"
      ],
      "execution_count": 0,
      "outputs": [
        {
          "output_type": "display_data",
          "data": {
            "image/png": "[encoded data removed]",
            "text/plain": [
              "<Figure size 432x288 with 1 Axes>"
            ]
          },
          "metadata": {
            "tags": []
          }
        }
      ]
    },
    {
      "cell_type": "code",
      "metadata": {
        "id": "WJiu_HtqN0q3",
        "colab_type": "code",
        "outputId": "6c317ebc-e835-425f-d7db-d9fa6b2ee2c7",
        "colab": {
          "base_uri": "https://localhost:8080/",
          "height": 277
        }
      },
      "source": [
        "# Gráfico mostrando os valores máximos e mínimos para cada dia\n",
        "df[['High', 'Low']].plot();"
      ],
      "execution_count": 0,
      "outputs": [
        {
          "output_type": "display_data",
          "data": {
            "image/png": "[encoded data removed]",
            "text/plain": [
              "<Figure size 432x288 with 1 Axes>"
            ]
          },
          "metadata": {
            "tags": []
          }
        }
      ]
    },
    {
      "cell_type": "markdown",
      "metadata": {
        "id": "Akn6yYv2OE4V",
        "colab_type": "text"
      },
      "source": [
        "### **Histograma**"
      ]
    },
    {
      "cell_type": "code",
      "metadata": {
        "id": "hvcPgsBmOf26",
        "colab_type": "code",
        "outputId": "839acb90-8fa4-4ffd-e35b-51760a2989e9",
        "colab": {
          "base_uri": "https://localhost:8080/",
          "height": 278
        }
      },
      "source": [
        "# Histograma do volume\n",
        "df['Volume'].hist();"
      ],
      "execution_count": 0,
      "outputs": [
        {
          "output_type": "display_data",
          "data": {
            "image/png": "[encoded data removed]",
            "text/plain": [
              "<Figure size 432x288 with 1 Axes>"
            ]
          },
          "metadata": {
            "tags": []
          }
        }
      ]
    },
    {
      "cell_type": "markdown",
      "metadata": {
        "id": "X8xD7BtYO703",
        "colab_type": "text"
      },
      "source": [
        "### **Gráfico de dispersão (Scatter Plot)**\n",
        "Interessante pafa verificar a correlação entre duas variáveis"
      ]
    },
    {
      "cell_type": "code",
      "metadata": {
        "id": "G6HnockKOpDb",
        "colab_type": "code",
        "outputId": "b8d2baec-5eb1-4806-be32-d69fbd6f67c1",
        "colab": {
          "base_uri": "https://localhost:8080/",
          "height": 279
        }
      },
      "source": [
        "df.plot.scatter('Low', 'High');"
      ],
      "execution_count": 0,
      "outputs": [
        {
          "output_type": "display_data",
          "data": {
            "image/png": "[encoded data removed]",
            "text/plain": [
              "<Figure size 432x288 with 1 Axes>"
            ]
          },
          "metadata": {
            "tags": []
          }
        }
      ]
    },
    {
      "cell_type": "markdown",
      "metadata": {
        "id": "bfxNMDtKPn7G",
        "colab_type": "text"
      },
      "source": [
        "### **Gráfico Boxplot**\n",
        "Este gráfico é interessante pois fornece um conjunto grande de informações em um único gráfico.\n",
        "\n",
        "Interessante para encontrar outliers"
      ]
    },
    {
      "cell_type": "code",
      "metadata": {
        "id": "Gjb61Rx0O6_F",
        "colab_type": "code",
        "outputId": "2d62268f-d4c4-451c-9bfd-735edbcd79d7",
        "colab": {
          "base_uri": "https://localhost:8080/",
          "height": 276
        }
      },
      "source": [
        "df.Volume.plot(kind='box');"
      ],
      "execution_count": 0,
      "outputs": [
        {
          "output_type": "display_data",
          "data": {
            "image/png": "[encoded data removed]",
            "text/plain": [
              "<Figure size 432x288 with 1 Axes>"
            ]
          },
          "metadata": {
            "tags": []
          }
        }
      ]
    },
    {
      "cell_type": "code",
      "metadata": {
        "id": "e4IVmRhXOr4S",
        "colab_type": "code",
        "colab": {}
      },
      "source": [
        ""
      ],
      "execution_count": 0,
      "outputs": []
    },
    {
      "cell_type": "markdown",
      "metadata": {
        "id": "-yrZdMSsfiea",
        "colab_type": "text"
      },
      "source": [
        "## **Análise Exploratória**\n",
        "\n",
        "A análise exploratória tem por objetivo entender como os dados estão distribuídos, resumir os dados de modo a encontrar as principais características dos mesmos."
      ]
    },
    {
      "cell_type": "code",
      "metadata": {
        "id": "6WAvPKDDgF-8",
        "colab_type": "code",
        "colab": {
          "base_uri": "https://localhost:8080/",
          "height": 357
        },
        "outputId": "878711e0-f21b-41d9-93a6-22575d527ae8"
      },
      "source": [
        "import pandas as pd\n",
        "\n",
        "df = pd.read_csv(\"https://raw.githubusercontent.com/carlosfab/curso_data_science_na_pratica/master/modulo_02/ocorrencias_aviacao.csv\", \n",
        "                 index_col='codigo_ocorrencia')\n",
        "\n",
        "df.head()"
      ],
      "execution_count": 2,
      "outputs": [
        {
          "output_type": "execute_result",
          "data": {
            "text/html": [
              "<div>\n",
              "<style scoped>\n",
              "    .dataframe tbody tr th:only-of-type {\n",
              "        vertical-align: middle;\n",
              "    }\n",
              "\n",
              "    .dataframe tbody tr th {\n",
              "        vertical-align: top;\n",
              "    }\n",
              "\n",
              "    .dataframe thead th {\n",
              "        text-align: right;\n",
              "    }\n",
              "</style>\n",
              "<table border=\"1\" class=\"dataframe\">\n",
              "  <thead>\n",
              "    <tr style=\"text-align: right;\">\n",
              "      <th></th>\n",
              "      <th>ocorrencia_classificacao</th>\n",
              "      <th>ocorrencia_tipo</th>\n",
              "      <th>ocorrencia_tipo_categoria</th>\n",
              "      <th>ocorrencia_tipo_icao</th>\n",
              "      <th>ocorrencia_latitude</th>\n",
              "      <th>ocorrencia_longitude</th>\n",
              "      <th>ocorrencia_cidade</th>\n",
              "      <th>ocorrencia_uf</th>\n",
              "      <th>ocorrencia_pais</th>\n",
              "      <th>ocorrencia_aerodromo</th>\n",
              "      <th>ocorrencia_dia</th>\n",
              "      <th>ocorrencia_horario</th>\n",
              "      <th>investigacao_aeronave_liberada</th>\n",
              "      <th>investigacao_status</th>\n",
              "      <th>divulgacao_relatorio_numero</th>\n",
              "      <th>divulgacao_relatorio_publicado</th>\n",
              "      <th>divulgacao_dia_publicacao</th>\n",
              "      <th>total_recomendacoes</th>\n",
              "      <th>total_aeronaves_envolvidas</th>\n",
              "      <th>ocorrencia_saida_pista</th>\n",
              "      <th>ocorrencia_dia_extracao</th>\n",
              "    </tr>\n",
              "    <tr>\n",
              "      <th>codigo_ocorrencia</th>\n",
              "      <th></th>\n",
              "      <th></th>\n",
              "      <th></th>\n",
              "      <th></th>\n",
              "      <th></th>\n",
              "      <th></th>\n",
              "      <th></th>\n",
              "      <th></th>\n",
              "      <th></th>\n",
              "      <th></th>\n",
              "      <th></th>\n",
              "      <th></th>\n",
              "      <th></th>\n",
              "      <th></th>\n",
              "      <th></th>\n",
              "      <th></th>\n",
              "      <th></th>\n",
              "      <th></th>\n",
              "      <th></th>\n",
              "      <th></th>\n",
              "      <th></th>\n",
              "    </tr>\n",
              "  </thead>\n",
              "  <tbody>\n",
              "    <tr>\n",
              "      <th>201305055424986</th>\n",
              "      <td>ACIDENTE</td>\n",
              "      <td>FALHA DO MOTOR EM VOO</td>\n",
              "      <td>FALHA OU MAU FUNCIONAMENTO DO MOTOR</td>\n",
              "      <td>SCF-PP</td>\n",
              "      <td>-9.9085</td>\n",
              "      <td>-63.0333</td>\n",
              "      <td>ARIQUEMES</td>\n",
              "      <td>RO</td>\n",
              "      <td>BRASIL</td>\n",
              "      <td>SJOG</td>\n",
              "      <td>2013-05-05</td>\n",
              "      <td>11:00:00</td>\n",
              "      <td>NaN</td>\n",
              "      <td>FINALIZADA</td>\n",
              "      <td>***</td>\n",
              "      <td>NÃO</td>\n",
              "      <td>NaN</td>\n",
              "      <td>0</td>\n",
              "      <td>1</td>\n",
              "      <td>NÃO</td>\n",
              "      <td>2018-08-28</td>\n",
              "    </tr>\n",
              "    <tr>\n",
              "      <th>201605160250139</th>\n",
              "      <td>INCIDENTE GRAVE</td>\n",
              "      <td>COLISÃO COM OBSTÁCULO DURANTE A DECOLAGEM E POUSO</td>\n",
              "      <td>COLISÃO COM OBSTÁCULO DURANTE A DECOLAGEM E POUSO</td>\n",
              "      <td>CTOL</td>\n",
              "      <td>-11.2644</td>\n",
              "      <td>-61.2589</td>\n",
              "      <td>CACOAL</td>\n",
              "      <td>RO</td>\n",
              "      <td>BRASIL</td>\n",
              "      <td>SSKW</td>\n",
              "      <td>2016-05-13</td>\n",
              "      <td>19:19:00</td>\n",
              "      <td>SIM</td>\n",
              "      <td>ATIVA</td>\n",
              "      <td>IG-084/CENIPA/2016</td>\n",
              "      <td>NÃO</td>\n",
              "      <td>NaN</td>\n",
              "      <td>0</td>\n",
              "      <td>1</td>\n",
              "      <td>NÃO</td>\n",
              "      <td>2018-08-28</td>\n",
              "    </tr>\n",
              "    <tr>\n",
              "      <th>201805021421302</th>\n",
              "      <td>INCIDENTE</td>\n",
              "      <td>AERÓDROMO</td>\n",
              "      <td>AERÓDROMO</td>\n",
              "      <td>ADRM</td>\n",
              "      <td>-11.4956</td>\n",
              "      <td>-61.4508</td>\n",
              "      <td>CACOAL</td>\n",
              "      <td>RO</td>\n",
              "      <td>BRASIL</td>\n",
              "      <td>SSKW</td>\n",
              "      <td>2018-03-09</td>\n",
              "      <td>22:40:00</td>\n",
              "      <td>SIM</td>\n",
              "      <td>FINALIZADA</td>\n",
              "      <td>***</td>\n",
              "      <td>NÃO</td>\n",
              "      <td>NaN</td>\n",
              "      <td>0</td>\n",
              "      <td>1</td>\n",
              "      <td>NÃO</td>\n",
              "      <td>2018-08-28</td>\n",
              "    </tr>\n",
              "    <tr>\n",
              "      <th>201311259977425</th>\n",
              "      <td>INCIDENTE GRAVE</td>\n",
              "      <td>POUSO SEM TREM</td>\n",
              "      <td>CONTATO ANORMAL COM A PISTA</td>\n",
              "      <td>ARC</td>\n",
              "      <td>-11.4956</td>\n",
              "      <td>-61.4508</td>\n",
              "      <td>CACOAL</td>\n",
              "      <td>RO</td>\n",
              "      <td>BRASIL</td>\n",
              "      <td>SSKW</td>\n",
              "      <td>2013-11-25</td>\n",
              "      <td>12:32:00</td>\n",
              "      <td>NaN</td>\n",
              "      <td>FINALIZADA</td>\n",
              "      <td>IG-209/CENIPA/2013</td>\n",
              "      <td>SIM</td>\n",
              "      <td>2014-04-07</td>\n",
              "      <td>0</td>\n",
              "      <td>1</td>\n",
              "      <td>NÃO</td>\n",
              "      <td>2018-08-28</td>\n",
              "    </tr>\n",
              "    <tr>\n",
              "      <th>201103187273112</th>\n",
              "      <td>INCIDENTE</td>\n",
              "      <td>OUTROS</td>\n",
              "      <td>OUTROS</td>\n",
              "      <td>OTHR</td>\n",
              "      <td>-13.1950</td>\n",
              "      <td>-60.8184</td>\n",
              "      <td>CEREJEIRAS</td>\n",
              "      <td>RO</td>\n",
              "      <td>BRASIL</td>\n",
              "      <td>****</td>\n",
              "      <td>2011-03-18</td>\n",
              "      <td>13:30:00</td>\n",
              "      <td>NaN</td>\n",
              "      <td>FINALIZADA</td>\n",
              "      <td>***</td>\n",
              "      <td>NÃO</td>\n",
              "      <td>NaN</td>\n",
              "      <td>0</td>\n",
              "      <td>1</td>\n",
              "      <td>NÃO</td>\n",
              "      <td>2018-08-28</td>\n",
              "    </tr>\n",
              "  </tbody>\n",
              "</table>\n",
              "</div>"
            ],
            "text/plain": [
              "                  ocorrencia_classificacao  ... ocorrencia_dia_extracao\n",
              "codigo_ocorrencia                           ...                        \n",
              "201305055424986                   ACIDENTE  ...              2018-08-28\n",
              "201605160250139            INCIDENTE GRAVE  ...              2018-08-28\n",
              "201805021421302                  INCIDENTE  ...              2018-08-28\n",
              "201311259977425            INCIDENTE GRAVE  ...              2018-08-28\n",
              "201103187273112                  INCIDENTE  ...              2018-08-28\n",
              "\n",
              "[5 rows x 21 columns]"
            ]
          },
          "metadata": {
            "tags": []
          },
          "execution_count": 2
        }
      ]
    },
    {
      "cell_type": "markdown",
      "metadata": {
        "id": "JWHK_STig3cu",
        "colab_type": "text"
      },
      "source": [
        "### **Resumo do dataframe**"
      ]
    },
    {
      "cell_type": "code",
      "metadata": {
        "id": "l1LkGrQ_gum3",
        "colab_type": "code",
        "colab": {
          "base_uri": "https://localhost:8080/",
          "height": 459
        },
        "outputId": "fe43cfaf-6198-4e65-b30b-96ba84acc259"
      },
      "source": [
        "df.info()"
      ],
      "execution_count": 3,
      "outputs": [
        {
          "output_type": "stream",
          "text": [
            "<class 'pandas.core.frame.DataFrame'>\n",
            "Int64Index: 5208 entries, 201305055424986 to 201309012098180\n",
            "Data columns (total 21 columns):\n",
            "ocorrencia_classificacao          5208 non-null object\n",
            "ocorrencia_tipo                   5208 non-null object\n",
            "ocorrencia_tipo_categoria         5208 non-null object\n",
            "ocorrencia_tipo_icao              5208 non-null object\n",
            "ocorrencia_latitude               5208 non-null float64\n",
            "ocorrencia_longitude              5208 non-null float64\n",
            "ocorrencia_cidade                 5208 non-null object\n",
            "ocorrencia_uf                     5208 non-null object\n",
            "ocorrencia_pais                   5208 non-null object\n",
            "ocorrencia_aerodromo              5208 non-null object\n",
            "ocorrencia_dia                    5208 non-null object\n",
            "ocorrencia_horario                5208 non-null object\n",
            "investigacao_aeronave_liberada    1110 non-null object\n",
            "investigacao_status               5208 non-null object\n",
            "divulgacao_relatorio_numero       5208 non-null object\n",
            "divulgacao_relatorio_publicado    5208 non-null object\n",
            "divulgacao_dia_publicacao         1261 non-null object\n",
            "total_recomendacoes               5208 non-null int64\n",
            "total_aeronaves_envolvidas        5208 non-null int64\n",
            "ocorrencia_saida_pista            5208 non-null object\n",
            "ocorrencia_dia_extracao           5208 non-null object\n",
            "dtypes: float64(2), int64(2), object(17)\n",
            "memory usage: 895.1+ KB\n"
          ],
          "name": "stdout"
        }
      ]
    },
    {
      "cell_type": "code",
      "metadata": {
        "id": "VCM4vBr_g-L_",
        "colab_type": "code",
        "colab": {
          "base_uri": "https://localhost:8080/",
          "height": 391
        },
        "outputId": "554dc393-debe-4d8d-c865-33c666cfa5a0"
      },
      "source": [
        "# identificar os tipos de variáveis\n",
        "df.dtypes"
      ],
      "execution_count": 4,
      "outputs": [
        {
          "output_type": "execute_result",
          "data": {
            "text/plain": [
              "ocorrencia_classificacao           object\n",
              "ocorrencia_tipo                    object\n",
              "ocorrencia_tipo_categoria          object\n",
              "ocorrencia_tipo_icao               object\n",
              "ocorrencia_latitude               float64\n",
              "ocorrencia_longitude              float64\n",
              "ocorrencia_cidade                  object\n",
              "ocorrencia_uf                      object\n",
              "ocorrencia_pais                    object\n",
              "ocorrencia_aerodromo               object\n",
              "ocorrencia_dia                     object\n",
              "ocorrencia_horario                 object\n",
              "investigacao_aeronave_liberada     object\n",
              "investigacao_status                object\n",
              "divulgacao_relatorio_numero        object\n",
              "divulgacao_relatorio_publicado     object\n",
              "divulgacao_dia_publicacao          object\n",
              "total_recomendacoes                 int64\n",
              "total_aeronaves_envolvidas          int64\n",
              "ocorrencia_saida_pista             object\n",
              "ocorrencia_dia_extracao            object\n",
              "dtype: object"
            ]
          },
          "metadata": {
            "tags": []
          },
          "execution_count": 4
        }
      ]
    },
    {
      "cell_type": "markdown",
      "metadata": {
        "id": "UQb04JJOiHlJ",
        "colab_type": "text"
      },
      "source": [
        "### **Valores únicos**"
      ]
    },
    {
      "cell_type": "code",
      "metadata": {
        "id": "S7A8xMdjh5LM",
        "colab_type": "code",
        "colab": {
          "base_uri": "https://localhost:8080/",
          "height": 544
        },
        "outputId": "ebb8a24d-7668-432c-94f4-74e71d800ed8"
      },
      "source": [
        "# Valores únicos para a coluna ocorrencia_tipo\n",
        "df.ocorrencia_tipo.unique()"
      ],
      "execution_count": 5,
      "outputs": [
        {
          "output_type": "execute_result",
          "data": {
            "text/plain": [
              "array(['FALHA DO MOTOR EM VOO',\n",
              "       'COLISÃO COM OBSTÁCULO DURANTE A DECOLAGEM E POUSO', 'AERÓDROMO',\n",
              "       'POUSO SEM TREM', 'OUTROS', 'PERDA DE CONTROLE NO SOLO',\n",
              "       'POUSO LONGO', 'TRÁFEGO AÉREO', 'PERDA DE CONTROLE EM VOO',\n",
              "       'COM TREM DE POUSO', 'INDETERMINADO', 'ESTOURO DE PNEU',\n",
              "       'VOO CONTROLADO CONTRA O TERRENO', 'EXCURSÃO DE PISTA',\n",
              "       'POUSO BRUSCO', 'CAUSADO POR FENÔMENO METEOROLÓGICO EM VOO',\n",
              "       'INCURSÃO EM PISTA', 'VAZAMENTO DE OUTROS FLUIDOS', 'COM ROTOR',\n",
              "       'FALHA OU MAU FUNCIONAMENTO DE SISTEMA / COMPONENTE ',\n",
              "       'PERDA DE COMPONENTE EM VOO', 'SOPRO DE REATOR',\n",
              "       'COM PARA-BRISAS / JANELA / PORTA', 'COM LANÇAMENTO DE CARGA',\n",
              "       'POUSO ANTES DA PISTA', 'F.O.D.', 'PROBLEMAS FISIOLÓGICOS',\n",
              "       'DESCOMPRESSÃO NÃO INTENCIONAL / EXPLOSIVA',\n",
              "       'COLISÃO DE VEÍCULO COM AERONAVE', 'FOGO NO SOLO', 'FOGO EM VOO',\n",
              "       'CAUSADO POR FENÔMENO METEOROLÓGICO NO SOLO', 'COM PESSOAL EM VOO',\n",
              "       'COLISÃO DE AERONAVES EM VOO', 'FUMAÇA NA CABINE',\n",
              "       'COLISÃO COM OBSTÁCULOS NO SOLO', 'PERDA DE COMPONENTE NO SOLO',\n",
              "       'SOPRO DE ROTOR', 'FALHA DO MOTOR NO SOLO', 'SUPERAQUECIMENTO',\n",
              "       'COM COMANDOS DE VOO', 'FALHA ESTRUTURAL',\n",
              "       'POUSO EM LOCAL NÃO PREVISTO', 'DESORIENTAÇÃO ESPACIAL',\n",
              "       'VAZAMENTO DE COMBUSTÍVEL', 'PANE SECA',\n",
              "       'COLISÃO COM AERONAVE NO SOLO', 'CORTE INVOLUNTÁRIO DO MOTOR',\n",
              "       'TURBULÊNCIA', 'OPERAÇÃO A BAIXA ALTITUDE', 'COM HÉLICE',\n",
              "       'COM LANÇAMENTO DE PESSOAS', 'COLISÃO EM VOO COM OBJETO REBOCADO',\n",
              "       'AERONAVE ATINGIDA POR OBJETO',\n",
              "       'FALHA OU MAU FUNCIONAMENTO DO MOTOR',\n",
              "       'CONTATO ANORMAL COM A PISTA ', 'CORTANTE DE VENTO / TEMPESTADE',\n",
              "       'OPERAÇÕES NO SOLO', 'CAUSADO POR RICOCHETE',\n",
              "       'RELACIONADO COM SECURITY', 'PERDA DA CONSCIÊNCIA',\n",
              "       'ALARME FALSO DE FOGO OU DE SUPERAQUECIMENTO', 'MANOBRA ABRUPTA'],\n",
              "      dtype=object)"
            ]
          },
          "metadata": {
            "tags": []
          },
          "execution_count": 5
        }
      ]
    },
    {
      "cell_type": "code",
      "metadata": {
        "id": "fdtYLEU-iSha",
        "colab_type": "code",
        "colab": {
          "base_uri": "https://localhost:8080/",
          "height": 221
        },
        "outputId": "6321a0e9-c96f-4df4-a55a-c68b8f13ef1b"
      },
      "source": [
        "# Quantidade de ocorrências de cava tipo\n",
        "df.ocorrencia_tipo.value_counts()"
      ],
      "execution_count": 6,
      "outputs": [
        {
          "output_type": "execute_result",
          "data": {
            "text/plain": [
              "FALHA DO MOTOR EM VOO                                  682\n",
              "ESTOURO DE PNEU                                        604\n",
              "FALHA OU MAU FUNCIONAMENTO DE SISTEMA / COMPONENTE     574\n",
              "PERDA DE CONTROLE NO SOLO                              492\n",
              "OUTROS                                                 350\n",
              "                                                      ... \n",
              "CORTANTE DE VENTO / TEMPESTADE                           1\n",
              "PERDA DA CONSCIÊNCIA                                     1\n",
              "RELACIONADO COM SECURITY                                 1\n",
              "CAUSADO POR RICOCHETE                                    1\n",
              "MANOBRA ABRUPTA                                          1\n",
              "Name: ocorrencia_tipo, Length: 63, dtype: int64"
            ]
          },
          "metadata": {
            "tags": []
          },
          "execution_count": 6
        }
      ]
    },
    {
      "cell_type": "code",
      "metadata": {
        "id": "JKN7jR8oiiLE",
        "colab_type": "code",
        "colab": {
          "base_uri": "https://localhost:8080/",
          "height": 221
        },
        "outputId": "491e049c-23f6-4a46-851c-d348f38a89bd"
      },
      "source": [
        "# Percentual de ocorrências de cava tipo\n",
        "df.ocorrencia_tipo.value_counts() / df.shape[0]"
      ],
      "execution_count": 9,
      "outputs": [
        {
          "output_type": "execute_result",
          "data": {
            "text/plain": [
              "FALHA DO MOTOR EM VOO                                  0.130952\n",
              "ESTOURO DE PNEU                                        0.115975\n",
              "FALHA OU MAU FUNCIONAMENTO DE SISTEMA / COMPONENTE     0.110215\n",
              "PERDA DE CONTROLE NO SOLO                              0.094470\n",
              "OUTROS                                                 0.067204\n",
              "                                                         ...   \n",
              "CORTANTE DE VENTO / TEMPESTADE                         0.000192\n",
              "PERDA DA CONSCIÊNCIA                                   0.000192\n",
              "RELACIONADO COM SECURITY                               0.000192\n",
              "CAUSADO POR RICOCHETE                                  0.000192\n",
              "MANOBRA ABRUPTA                                        0.000192\n",
              "Name: ocorrencia_tipo, Length: 63, dtype: float64"
            ]
          },
          "metadata": {
            "tags": []
          },
          "execution_count": 9
        }
      ]
    },
    {
      "cell_type": "markdown",
      "metadata": {
        "id": "oeKhRDbhjLLW",
        "colab_type": "text"
      },
      "source": [
        "### **Filtrando Valores**\n",
        "\n",
        "Existem dois métodos principais para resgatar e filtrar valores em um Dataframe."
      ]
    },
    {
      "cell_type": "markdown",
      "metadata": {
        "id": "DJDsrF2FjeRt",
        "colab_type": "text"
      },
      "source": [
        "#### **loc**\n",
        "\n",
        "Exemplo 1: suponha que queremos extrair a latitude e longitude do local onde aconteceu a ocorrência número 200808073991179"
      ]
    },
    {
      "cell_type": "code",
      "metadata": {
        "id": "aPHbjFuujcoS",
        "colab_type": "code",
        "colab": {
          "base_uri": "https://localhost:8080/",
          "height": 68
        },
        "outputId": "22210797-6f7f-4608-e086-a6d8f44fa928"
      },
      "source": [
        "# df.loc[<valor index a ser buscado>,[<colunas a ser retornada>]]\n",
        "# No caso abaixo eu quero saber a ocorrencia_latitude e \n",
        "# ocorrencia_longitude para o caso 200808073991179\n",
        "\n",
        "df.loc[200808073991179, [\"ocorrencia_latitude\", \"ocorrencia_longitude\"]]"
      ],
      "execution_count": 11,
      "outputs": [
        {
          "output_type": "execute_result",
          "data": {
            "text/plain": [
              "ocorrencia_latitude     -9.1194\n",
              "ocorrencia_longitude   -68.5978\n",
              "Name: 200808073991179, dtype: object"
            ]
          },
          "metadata": {
            "tags": []
          },
          "execution_count": 11
        }
      ]
    },
    {
      "cell_type": "markdown",
      "metadata": {
        "id": "0OqbpmlwlZVO",
        "colab_type": "text"
      },
      "source": [
        "Exemplo 2: Suponha que eu queira saber todos os voos onde eu tive ocorrência do tipo \"FALHA DO MOTOR EM VOO\""
      ]
    },
    {
      "cell_type": "code",
      "metadata": {
        "id": "PmWGwSPHkz7-",
        "colab_type": "code",
        "colab": {
          "base_uri": "https://localhost:8080/",
          "height": 340
        },
        "outputId": "6ab7a201-9760-4196-8546-c5ccfd639a49"
      },
      "source": [
        "df.loc[df.ocorrencia_tipo ==  \"FALHA DO MOTOR EM VOO\"].head()"
      ],
      "execution_count": 18,
      "outputs": [
        {
          "output_type": "execute_result",
          "data": {
            "text/html": [
              "<div>\n",
              "<style scoped>\n",
              "    .dataframe tbody tr th:only-of-type {\n",
              "        vertical-align: middle;\n",
              "    }\n",
              "\n",
              "    .dataframe tbody tr th {\n",
              "        vertical-align: top;\n",
              "    }\n",
              "\n",
              "    .dataframe thead th {\n",
              "        text-align: right;\n",
              "    }\n",
              "</style>\n",
              "<table border=\"1\" class=\"dataframe\">\n",
              "  <thead>\n",
              "    <tr style=\"text-align: right;\">\n",
              "      <th></th>\n",
              "      <th>ocorrencia_classificacao</th>\n",
              "      <th>ocorrencia_tipo</th>\n",
              "      <th>ocorrencia_tipo_categoria</th>\n",
              "      <th>ocorrencia_tipo_icao</th>\n",
              "      <th>ocorrencia_latitude</th>\n",
              "      <th>ocorrencia_longitude</th>\n",
              "      <th>ocorrencia_cidade</th>\n",
              "      <th>ocorrencia_uf</th>\n",
              "      <th>ocorrencia_pais</th>\n",
              "      <th>ocorrencia_aerodromo</th>\n",
              "      <th>ocorrencia_dia</th>\n",
              "      <th>ocorrencia_horario</th>\n",
              "      <th>investigacao_aeronave_liberada</th>\n",
              "      <th>investigacao_status</th>\n",
              "      <th>divulgacao_relatorio_numero</th>\n",
              "      <th>divulgacao_relatorio_publicado</th>\n",
              "      <th>divulgacao_dia_publicacao</th>\n",
              "      <th>total_recomendacoes</th>\n",
              "      <th>total_aeronaves_envolvidas</th>\n",
              "      <th>ocorrencia_saida_pista</th>\n",
              "      <th>ocorrencia_dia_extracao</th>\n",
              "    </tr>\n",
              "    <tr>\n",
              "      <th>codigo_ocorrencia</th>\n",
              "      <th></th>\n",
              "      <th></th>\n",
              "      <th></th>\n",
              "      <th></th>\n",
              "      <th></th>\n",
              "      <th></th>\n",
              "      <th></th>\n",
              "      <th></th>\n",
              "      <th></th>\n",
              "      <th></th>\n",
              "      <th></th>\n",
              "      <th></th>\n",
              "      <th></th>\n",
              "      <th></th>\n",
              "      <th></th>\n",
              "      <th></th>\n",
              "      <th></th>\n",
              "      <th></th>\n",
              "      <th></th>\n",
              "      <th></th>\n",
              "      <th></th>\n",
              "    </tr>\n",
              "  </thead>\n",
              "  <tbody>\n",
              "    <tr>\n",
              "      <th>201305055424986</th>\n",
              "      <td>ACIDENTE</td>\n",
              "      <td>FALHA DO MOTOR EM VOO</td>\n",
              "      <td>FALHA OU MAU FUNCIONAMENTO DO MOTOR</td>\n",
              "      <td>SCF-PP</td>\n",
              "      <td>-9.9085</td>\n",
              "      <td>-63.0333</td>\n",
              "      <td>ARIQUEMES</td>\n",
              "      <td>RO</td>\n",
              "      <td>BRASIL</td>\n",
              "      <td>SJOG</td>\n",
              "      <td>2013-05-05</td>\n",
              "      <td>11:00:00</td>\n",
              "      <td>NaN</td>\n",
              "      <td>FINALIZADA</td>\n",
              "      <td>***</td>\n",
              "      <td>NÃO</td>\n",
              "      <td>NaN</td>\n",
              "      <td>0</td>\n",
              "      <td>1</td>\n",
              "      <td>NÃO</td>\n",
              "      <td>2018-08-28</td>\n",
              "    </tr>\n",
              "    <tr>\n",
              "      <th>201211159478138</th>\n",
              "      <td>ACIDENTE</td>\n",
              "      <td>FALHA DO MOTOR EM VOO</td>\n",
              "      <td>FALHA OU MAU FUNCIONAMENTO DO MOTOR</td>\n",
              "      <td>SCF-PP</td>\n",
              "      <td>-16.7588</td>\n",
              "      <td>-49.4405</td>\n",
              "      <td>ABADIA DE GOIÁS</td>\n",
              "      <td>GO</td>\n",
              "      <td>BRASIL</td>\n",
              "      <td>****</td>\n",
              "      <td>2012-11-15</td>\n",
              "      <td>12:40:00</td>\n",
              "      <td>NaN</td>\n",
              "      <td>FINALIZADA</td>\n",
              "      <td>***</td>\n",
              "      <td>NÃO</td>\n",
              "      <td>NaN</td>\n",
              "      <td>0</td>\n",
              "      <td>1</td>\n",
              "      <td>NÃO</td>\n",
              "      <td>2018-08-28</td>\n",
              "    </tr>\n",
              "    <tr>\n",
              "      <th>200811167138358</th>\n",
              "      <td>ACIDENTE</td>\n",
              "      <td>FALHA DO MOTOR EM VOO</td>\n",
              "      <td>FALHA OU MAU FUNCIONAMENTO DO MOTOR</td>\n",
              "      <td>SCF-PP</td>\n",
              "      <td>2.8100</td>\n",
              "      <td>-61.3831</td>\n",
              "      <td>ALTO ALEGRE</td>\n",
              "      <td>RR</td>\n",
              "      <td>BRASIL</td>\n",
              "      <td>****</td>\n",
              "      <td>2008-11-16</td>\n",
              "      <td>12:25:00</td>\n",
              "      <td>NaN</td>\n",
              "      <td>FINALIZADA</td>\n",
              "      <td>A-566/CENIPA/2015</td>\n",
              "      <td>SIM</td>\n",
              "      <td>2016-03-18</td>\n",
              "      <td>3</td>\n",
              "      <td>1</td>\n",
              "      <td>NÃO</td>\n",
              "      <td>2018-08-28</td>\n",
              "    </tr>\n",
              "    <tr>\n",
              "      <th>201111224132085</th>\n",
              "      <td>ACIDENTE</td>\n",
              "      <td>FALHA DO MOTOR EM VOO</td>\n",
              "      <td>FALHA OU MAU FUNCIONAMENTO DO MOTOR</td>\n",
              "      <td>SCF-PP</td>\n",
              "      <td>0.7394</td>\n",
              "      <td>-62.0214</td>\n",
              "      <td>ALTO ALEGRE</td>\n",
              "      <td>RR</td>\n",
              "      <td>BRASIL</td>\n",
              "      <td>****</td>\n",
              "      <td>2011-11-22</td>\n",
              "      <td>16:40:00</td>\n",
              "      <td>NaN</td>\n",
              "      <td>FINALIZADA</td>\n",
              "      <td>A-038/CENIPA/2013</td>\n",
              "      <td>SIM</td>\n",
              "      <td>2013-08-22</td>\n",
              "      <td>2</td>\n",
              "      <td>1</td>\n",
              "      <td>NÃO</td>\n",
              "      <td>2018-08-28</td>\n",
              "    </tr>\n",
              "    <tr>\n",
              "      <th>201509183338691</th>\n",
              "      <td>ACIDENTE</td>\n",
              "      <td>FALHA DO MOTOR EM VOO</td>\n",
              "      <td>FALHA OU MAU FUNCIONAMENTO DO MOTOR</td>\n",
              "      <td>SCF-PP</td>\n",
              "      <td>-23.0061</td>\n",
              "      <td>-44.3025</td>\n",
              "      <td>ANGRA DOS REIS</td>\n",
              "      <td>RJ</td>\n",
              "      <td>BRASIL</td>\n",
              "      <td>****</td>\n",
              "      <td>2015-09-18</td>\n",
              "      <td>13:30:00</td>\n",
              "      <td>NaN</td>\n",
              "      <td>FINALIZADA</td>\n",
              "      <td>***</td>\n",
              "      <td>NÃO</td>\n",
              "      <td>NaN</td>\n",
              "      <td>0</td>\n",
              "      <td>1</td>\n",
              "      <td>NÃO</td>\n",
              "      <td>2018-08-28</td>\n",
              "    </tr>\n",
              "  </tbody>\n",
              "</table>\n",
              "</div>"
            ],
            "text/plain": [
              "                  ocorrencia_classificacao  ... ocorrencia_dia_extracao\n",
              "codigo_ocorrencia                           ...                        \n",
              "201305055424986                   ACIDENTE  ...              2018-08-28\n",
              "201211159478138                   ACIDENTE  ...              2018-08-28\n",
              "200811167138358                   ACIDENTE  ...              2018-08-28\n",
              "201111224132085                   ACIDENTE  ...              2018-08-28\n",
              "201509183338691                   ACIDENTE  ...              2018-08-28\n",
              "\n",
              "[5 rows x 21 columns]"
            ]
          },
          "metadata": {
            "tags": []
          },
          "execution_count": 18
        }
      ]
    },
    {
      "cell_type": "markdown",
      "metadata": {
        "id": "PKl8Pn5xmZmR",
        "colab_type": "text"
      },
      "source": [
        "#### **iloc**"
      ]
    },
    {
      "cell_type": "code",
      "metadata": {
        "id": "DjyYs81ulq7k",
        "colab_type": "code",
        "colab": {
          "base_uri": "https://localhost:8080/",
          "height": 278
        },
        "outputId": "e9baf0d8-0da2-419c-dc19-a01abc53a11e"
      },
      "source": [
        "# Retornando as 3 primeiras linhas e as 4 primeiras colunas\n",
        "df.iloc[:3, :4]"
      ],
      "execution_count": 21,
      "outputs": [
        {
          "output_type": "execute_result",
          "data": {
            "text/html": [
              "<div>\n",
              "<style scoped>\n",
              "    .dataframe tbody tr th:only-of-type {\n",
              "        vertical-align: middle;\n",
              "    }\n",
              "\n",
              "    .dataframe tbody tr th {\n",
              "        vertical-align: top;\n",
              "    }\n",
              "\n",
              "    .dataframe thead th {\n",
              "        text-align: right;\n",
              "    }\n",
              "</style>\n",
              "<table border=\"1\" class=\"dataframe\">\n",
              "  <thead>\n",
              "    <tr style=\"text-align: right;\">\n",
              "      <th></th>\n",
              "      <th>ocorrencia_classificacao</th>\n",
              "      <th>ocorrencia_tipo</th>\n",
              "      <th>ocorrencia_tipo_categoria</th>\n",
              "      <th>ocorrencia_tipo_icao</th>\n",
              "    </tr>\n",
              "    <tr>\n",
              "      <th>codigo_ocorrencia</th>\n",
              "      <th></th>\n",
              "      <th></th>\n",
              "      <th></th>\n",
              "      <th></th>\n",
              "    </tr>\n",
              "  </thead>\n",
              "  <tbody>\n",
              "    <tr>\n",
              "      <th>201305055424986</th>\n",
              "      <td>ACIDENTE</td>\n",
              "      <td>FALHA DO MOTOR EM VOO</td>\n",
              "      <td>FALHA OU MAU FUNCIONAMENTO DO MOTOR</td>\n",
              "      <td>SCF-PP</td>\n",
              "    </tr>\n",
              "    <tr>\n",
              "      <th>201605160250139</th>\n",
              "      <td>INCIDENTE GRAVE</td>\n",
              "      <td>COLISÃO COM OBSTÁCULO DURANTE A DECOLAGEM E POUSO</td>\n",
              "      <td>COLISÃO COM OBSTÁCULO DURANTE A DECOLAGEM E POUSO</td>\n",
              "      <td>CTOL</td>\n",
              "    </tr>\n",
              "    <tr>\n",
              "      <th>201805021421302</th>\n",
              "      <td>INCIDENTE</td>\n",
              "      <td>AERÓDROMO</td>\n",
              "      <td>AERÓDROMO</td>\n",
              "      <td>ADRM</td>\n",
              "    </tr>\n",
              "  </tbody>\n",
              "</table>\n",
              "</div>"
            ],
            "text/plain": [
              "                  ocorrencia_classificacao  ... ocorrencia_tipo_icao\n",
              "codigo_ocorrencia                           ...                     \n",
              "201305055424986                   ACIDENTE  ...               SCF-PP\n",
              "201605160250139            INCIDENTE GRAVE  ...                 CTOL\n",
              "201805021421302                  INCIDENTE  ...                 ADRM\n",
              "\n",
              "[3 rows x 4 columns]"
            ]
          },
          "metadata": {
            "tags": []
          },
          "execution_count": 21
        }
      ]
    },
    {
      "cell_type": "markdown",
      "metadata": {
        "id": "QdM05EQSnBeY",
        "colab_type": "text"
      },
      "source": [
        "### **Valores ausentes**\n",
        "\n",
        "Existem várias abordages para lidar com valores ausentes, tudo irá depender dos requisitos do projeto"
      ]
    },
    {
      "cell_type": "markdown",
      "metadata": {
        "id": "lOb6o9EaoEoX",
        "colab_type": "text"
      },
      "source": [
        "#### **Identificando Valores ausentes**"
      ]
    },
    {
      "cell_type": "code",
      "metadata": {
        "id": "L9_IF0PRmC9n",
        "colab_type": "code",
        "colab": {
          "base_uri": "https://localhost:8080/",
          "height": 391
        },
        "outputId": "d94f4a17-beee-43f4-b184-5fdff922d73c"
      },
      "source": [
        "# Ver a quantidade de valores ausentes\n",
        "df.isnull().sum()"
      ],
      "execution_count": 26,
      "outputs": [
        {
          "output_type": "execute_result",
          "data": {
            "text/plain": [
              "ocorrencia_classificacao             0\n",
              "ocorrencia_tipo                      0\n",
              "ocorrencia_tipo_categoria            0\n",
              "ocorrencia_tipo_icao                 0\n",
              "ocorrencia_latitude                  0\n",
              "ocorrencia_longitude                 0\n",
              "ocorrencia_cidade                    0\n",
              "ocorrencia_uf                        0\n",
              "ocorrencia_pais                      0\n",
              "ocorrencia_aerodromo                 0\n",
              "ocorrencia_dia                       0\n",
              "ocorrencia_horario                   0\n",
              "investigacao_aeronave_liberada    4098\n",
              "investigacao_status                  0\n",
              "divulgacao_relatorio_numero          0\n",
              "divulgacao_relatorio_publicado       0\n",
              "divulgacao_dia_publicacao         3947\n",
              "total_recomendacoes                  0\n",
              "total_aeronaves_envolvidas           0\n",
              "ocorrencia_saida_pista               0\n",
              "ocorrencia_dia_extracao              0\n",
              "dtype: int64"
            ]
          },
          "metadata": {
            "tags": []
          },
          "execution_count": 26
        }
      ]
    },
    {
      "cell_type": "code",
      "metadata": {
        "id": "QzLbdhFkoqyH",
        "colab_type": "code",
        "colab": {
          "base_uri": "https://localhost:8080/",
          "height": 391
        },
        "outputId": "2ddc0101-347e-4aac-f45b-860d50631f99"
      },
      "source": [
        "# Percentual de valores ausentes\n",
        "(df.isnull().sum() / df.shape[0])*100"
      ],
      "execution_count": 28,
      "outputs": [
        {
          "output_type": "execute_result",
          "data": {
            "text/plain": [
              "ocorrencia_classificacao           0.000000\n",
              "ocorrencia_tipo                    0.000000\n",
              "ocorrencia_tipo_categoria          0.000000\n",
              "ocorrencia_tipo_icao               0.000000\n",
              "ocorrencia_latitude                0.000000\n",
              "ocorrencia_longitude               0.000000\n",
              "ocorrencia_cidade                  0.000000\n",
              "ocorrencia_uf                      0.000000\n",
              "ocorrencia_pais                    0.000000\n",
              "ocorrencia_aerodromo               0.000000\n",
              "ocorrencia_dia                     0.000000\n",
              "ocorrencia_horario                 0.000000\n",
              "investigacao_aeronave_liberada    78.686636\n",
              "investigacao_status                0.000000\n",
              "divulgacao_relatorio_numero        0.000000\n",
              "divulgacao_relatorio_publicado     0.000000\n",
              "divulgacao_dia_publicacao         75.787250\n",
              "total_recomendacoes                0.000000\n",
              "total_aeronaves_envolvidas         0.000000\n",
              "ocorrencia_saida_pista             0.000000\n",
              "ocorrencia_dia_extracao            0.000000\n",
              "dtype: float64"
            ]
          },
          "metadata": {
            "tags": []
          },
          "execution_count": 28
        }
      ]
    },
    {
      "cell_type": "markdown",
      "metadata": {
        "id": "CZ_742-5ojjn",
        "colab_type": "text"
      },
      "source": [
        "#### **Excluindo valores ausentes**\n",
        "\n",
        "Esta é a primeira opção quando você esta lidando com valores nulos, entretanto esta abordagem pode nao ser ideal, pois pode-se estar descartando informações relevantes presentes em outras colunas.\n",
        "\n",
        "É possível excluir tanto linhas com valores ausentes quanto colunas, para que o Pandas saiba se sua intenção é de eliminar linhas (axis=0) ou colunas (axis=1), você deve informar dentro do método dropna()"
      ]
    },
    {
      "cell_type": "code",
      "metadata": {
        "id": "PB3P5QbFn_Gr",
        "colab_type": "code",
        "colab": {
          "base_uri": "https://localhost:8080/",
          "height": 51
        },
        "outputId": "0cacf680-3883-4a4f-ac35-aa9bd188e701"
      },
      "source": [
        "# LINHA\n",
        "# Eliminar todas as entradas onde existam valores ausentes em divulgacao_dia_publicacao\n",
        "\n",
        "df_row_dropna = df.dropna(subset=['divulgacao_dia_publicacao'], axis=0)\n",
        "\n",
        "print(\"Antes:\\t{}\".format(df.shape))\n",
        "print(\"Depois:\\t{}\".format(df_row_dropna.shape))\n"
      ],
      "execution_count": 30,
      "outputs": [
        {
          "output_type": "stream",
          "text": [
            "Antes:\t(5208, 21)\n",
            "Depois:\t(1261, 21)\n"
          ],
          "name": "stdout"
        }
      ]
    },
    {
      "cell_type": "code",
      "metadata": {
        "id": "XI-fTVbUq_wG",
        "colab_type": "code",
        "colab": {
          "base_uri": "https://localhost:8080/",
          "height": 51
        },
        "outputId": "23dfad34-bb47-412e-f6fe-e585fae0eff3"
      },
      "source": [
        "# COLUNA\n",
        "# Eliminar as colunas onde existam valores ausentes \n",
        "\n",
        "df_cols_dropna = df.dropna(axis=1)\n",
        "\n",
        "print(\"Antes:\\t{}\".format(df.shape))\n",
        "print(\"Depois:\\t{}\".format(df_cols_dropna.shape))"
      ],
      "execution_count": 31,
      "outputs": [
        {
          "output_type": "stream",
          "text": [
            "Antes:\t(5208, 21)\n",
            "Depois:\t(5208, 19)\n"
          ],
          "name": "stdout"
        }
      ]
    },
    {
      "cell_type": "markdown",
      "metadata": {
        "id": "Dz9hWAFQrvH_",
        "colab_type": "text"
      },
      "source": [
        "#### **Preencher valores**\n",
        "\n",
        "Esta é uma opção melhor pois permite manter dados existentes em outras células.\n",
        "\n",
        "A chave aqui é escolher qual valor devemos utilizar.\n",
        "\n",
        "Existem técnicas simples como usar o valor mais frequente, a média ou a mediana, assimm como há tecnicas mais avançadas que envolvem a contrução de modelos de machine learning, cuja função é dizer qua valor usar nesses campos\n",
        "\n",
        "No exemplo a seguir vamos preencher os valores ausentes com a data 9999-12-31."
      ]
    },
    {
      "cell_type": "code",
      "metadata": {
        "id": "GCRpNSbGrqXx",
        "colab_type": "code",
        "colab": {}
      },
      "source": [
        "# Substituição dos valores\n",
        "df.divulgacao_dia_publicacao.fillna(\"9999-12-31\", inplace=True)"
      ],
      "execution_count": 0,
      "outputs": []
    },
    {
      "cell_type": "code",
      "metadata": {
        "id": "jGUqd00RszBM",
        "colab_type": "code",
        "colab": {
          "base_uri": "https://localhost:8080/",
          "height": 34
        },
        "outputId": "77ce7088-1247-458e-8cd6-f79401638ac4"
      },
      "source": [
        "df.divulgacao_dia_publicacao.isnull().sum()"
      ],
      "execution_count": 39,
      "outputs": [
        {
          "output_type": "execute_result",
          "data": {
            "text/plain": [
              "0"
            ]
          },
          "metadata": {
            "tags": []
          },
          "execution_count": 39
        }
      ]
    },
    {
      "cell_type": "code",
      "metadata": {
        "id": "ohbpQRTUuRou",
        "colab_type": "code",
        "colab": {}
      },
      "source": [
        ""
      ],
      "execution_count": 0,
      "outputs": []
    }
  ]
}
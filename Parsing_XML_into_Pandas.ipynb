{
  "nbformat": 4,
  "nbformat_minor": 0,
  "metadata": {
    "colab": {
      "name": "Parsing XML into Pandas.ipynb",
      "provenance": [],
      "toc_visible": true,
      "authorship_tag": "ABX9TyP64BQWkmRMBww1tKQJBfsE",
      "include_colab_link": true
    },
    "kernelspec": {
      "name": "python3",
      "display_name": "Python 3"
    }
  },
  "cells": [
    {
      "cell_type": "markdown",
      "metadata": {
        "id": "view-in-github",
        "colab_type": "text"
      },
      "source": [
        "<a href=\"https://colab.research.google.com/github/diogorjs/we_love_data/blob/master/Parsing_XML_into_Pandas.ipynb\" target=\"_parent\"><img src=\"https://colab.research.google.com/assets/colab-badge.svg\" alt=\"Open In Colab\"/></a>"
      ]
    },
    {
      "cell_type": "code",
      "metadata": {
        "id": "3TsRIOSXoO90",
        "colab_type": "code",
        "colab": {}
      },
      "source": [
        "# Importando os pacotes necessários\n",
        "import pandas as pd \n",
        "import xml.etree.ElementTree as etree\n",
        "import io\n",
        "import requests"
      ],
      "execution_count": 0,
      "outputs": []
    },
    {
      "cell_type": "code",
      "metadata": {
        "id": "7rDXj7Bvo2Xi",
        "colab_type": "code",
        "colab": {
          "base_uri": "https://localhost:8080/",
          "height": 34
        },
        "outputId": "6e7b5100-9d8b-4ed2-dcc7-26e546beb469"
      },
      "source": [
        "# Raliza o parse do arquivo\n",
        "tree = etree.parse(\"xml_parse_test.xml\")\n",
        "tree"
      ],
      "execution_count": 45,
      "outputs": [
        {
          "output_type": "execute_result",
          "data": {
            "text/plain": [
              "<xml.etree.ElementTree.ElementTree at 0x7f2db238dba8>"
            ]
          },
          "metadata": {
            "tags": []
          },
          "execution_count": 45
        }
      ]
    },
    {
      "cell_type": "code",
      "metadata": {
        "id": "Oz0jqr90o2r2",
        "colab_type": "code",
        "outputId": "afb42817-674d-412a-abec-adcae8ef59ae",
        "colab": {
          "base_uri": "https://localhost:8080/",
          "height": 34
        }
      },
      "source": [
        "# Obtem o node root do XML\n",
        "root = tree.getroot()\n",
        "root"
      ],
      "execution_count": 40,
      "outputs": [
        {
          "output_type": "execute_result",
          "data": {
            "text/plain": [
              "<Element 'FILE_NAME' at 0x7f2db2374e08>"
            ]
          },
          "metadata": {
            "tags": []
          },
          "execution_count": 40
        }
      ]
    },
    {
      "cell_type": "code",
      "metadata": {
        "id": "r_7NJ-7SprCU",
        "colab_type": "code",
        "colab": {}
      },
      "source": [
        "# Cria o dataframe com as colunas que você quer ver\n",
        "columns = [\"NAME\", \"AGE\", \"SALARY\"]\n",
        "df = pd.DataFrame(columns = columns)"
      ],
      "execution_count": 0,
      "outputs": []
    },
    {
      "cell_type": "code",
      "metadata": {
        "id": "OMJSOYjSp7rc",
        "colab_type": "code",
        "colab": {}
      },
      "source": [
        "# Carrega o dataframe com os dados do arquivo XML\n",
        "for node in root.findall('FIELD/TARGETFIELD'): \n",
        "    name = node.attrib.get(\"NAME\")\n",
        "    age = node.get(\"AGE\")\n",
        "    salary = node.get(\"SALARY\")\n",
        "    df = df.append(pd.Series([name, age, salary], index = columns), ignore_index = True)"
      ],
      "execution_count": 0,
      "outputs": []
    },
    {
      "cell_type": "code",
      "metadata": {
        "id": "zK1HKJqbqtGX",
        "colab_type": "code",
        "outputId": "2a8d6cc9-c7b0-41cf-e9e4-7a64076c2c65",
        "colab": {
          "base_uri": "https://localhost:8080/",
          "height": 173
        }
      },
      "source": [
        "df"
      ],
      "execution_count": 43,
      "outputs": [
        {
          "output_type": "execute_result",
          "data": {
            "text/html": [
              "<div>\n",
              "<style scoped>\n",
              "    .dataframe tbody tr th:only-of-type {\n",
              "        vertical-align: middle;\n",
              "    }\n",
              "\n",
              "    .dataframe tbody tr th {\n",
              "        vertical-align: top;\n",
              "    }\n",
              "\n",
              "    .dataframe thead th {\n",
              "        text-align: right;\n",
              "    }\n",
              "</style>\n",
              "<table border=\"1\" class=\"dataframe\">\n",
              "  <thead>\n",
              "    <tr style=\"text-align: right;\">\n",
              "      <th></th>\n",
              "      <th>NAME</th>\n",
              "      <th>AGE</th>\n",
              "      <th>SALARY</th>\n",
              "    </tr>\n",
              "  </thead>\n",
              "  <tbody>\n",
              "    <tr>\n",
              "      <th>0</th>\n",
              "      <td>DIOGO</td>\n",
              "      <td>36</td>\n",
              "      <td>15000</td>\n",
              "    </tr>\n",
              "    <tr>\n",
              "      <th>1</th>\n",
              "      <td>DAIANE</td>\n",
              "      <td>35</td>\n",
              "      <td>25000</td>\n",
              "    </tr>\n",
              "    <tr>\n",
              "      <th>2</th>\n",
              "      <td>ISABELA</td>\n",
              "      <td>9</td>\n",
              "      <td>50</td>\n",
              "    </tr>\n",
              "    <tr>\n",
              "      <th>3</th>\n",
              "      <td>GABRIELA</td>\n",
              "      <td>5</td>\n",
              "      <td>25</td>\n",
              "    </tr>\n",
              "  </tbody>\n",
              "</table>\n",
              "</div>"
            ],
            "text/plain": [
              "       NAME AGE SALARY\n",
              "0     DIOGO  36  15000\n",
              "1    DAIANE  35  25000\n",
              "2   ISABELA   9     50\n",
              "3  GABRIELA   5     25"
            ]
          },
          "metadata": {
            "tags": []
          },
          "execution_count": 43
        }
      ]
    }
  ]
}